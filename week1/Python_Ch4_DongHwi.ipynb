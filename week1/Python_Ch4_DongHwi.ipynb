{
  "nbformat": 4,
  "nbformat_minor": 0,
  "metadata": {
    "colab": {
      "name": "Python Ch4_DongHwi.ipynb",
      "provenance": [],
      "collapsed_sections": []
    },
    "kernelspec": {
      "name": "python3",
      "display_name": "Python 3"
    }
  },
  "cells": [
    {
      "cell_type": "markdown",
      "metadata": {
        "id": "niCN71MeksrM"
      },
      "source": [
        "## **Numpy Basics: Arrays and Vectorized Computation**"
      ]
    },
    {
      "cell_type": "code",
      "metadata": {
        "id": "DypQ5xtYkRE9"
      },
      "source": [
        "import numpy as np\r\n",
        "np.random.seed(12345)\r\n",
        "import matplotlib.pyplot as plt\r\n",
        "plt.rc('figure', figsize=(10,6))\r\n",
        "np.set_printoptions(precision=4, suppress=True)"
      ],
      "execution_count": 1,
      "outputs": []
    },
    {
      "cell_type": "code",
      "metadata": {
        "id": "XG5ZNJLolMDI"
      },
      "source": [
        "my_arr = np.arange(1000000)\r\n",
        "my_list = list(range(1000000))"
      ],
      "execution_count": 2,
      "outputs": []
    },
    {
      "cell_type": "code",
      "metadata": {
        "colab": {
          "base_uri": "https://localhost:8080/"
        },
        "id": "ZIsroDO6lpT0",
        "outputId": "0732e221-1d15-44ca-97b4-2a2b2fb29626"
      },
      "source": [
        "##Numpy 기반 알고리즘이 10~100배 정도 빠르며, 더 적은 메모리를 사용한다\r\n",
        "\r\n",
        "%time for _ in range(10): my_arr2 = my_arr * 2\r\n",
        "%time for _ in range(10): my_list2 = [x * 2 for x in my_list]"
      ],
      "execution_count": 3,
      "outputs": [
        {
          "output_type": "stream",
          "text": [
            "CPU times: user 12.2 ms, sys: 4.13 ms, total: 16.4 ms\n",
            "Wall time: 19.1 ms\n",
            "CPU times: user 600 ms, sys: 117 ms, total: 717 ms\n",
            "Wall time: 726 ms\n"
          ],
          "name": "stdout"
        }
      ]
    },
    {
      "cell_type": "markdown",
      "metadata": {
        "id": "L-RtMWpqmung"
      },
      "source": [
        "## **The Numpy ndarray: A Multidimensional Array Object**"
      ]
    },
    {
      "cell_type": "code",
      "metadata": {
        "id": "o1FXgl6clrs9"
      },
      "source": [
        "import numpy as np"
      ],
      "execution_count": 4,
      "outputs": []
    },
    {
      "cell_type": "code",
      "metadata": {
        "colab": {
          "base_uri": "https://localhost:8080/"
        },
        "id": "8gL5McrQnDJz",
        "outputId": "6a6d020b-1d41-45a8-a460-3ff9667aacea"
      },
      "source": [
        "##random하게 2*3인 numpy를 생성\r\n",
        "\r\n",
        "data = np.random.randn(2,3)\r\n",
        "data"
      ],
      "execution_count": 5,
      "outputs": [
        {
          "output_type": "execute_result",
          "data": {
            "text/plain": [
              "array([[-0.2047,  0.4789, -0.5194],\n",
              "       [-0.5557,  1.9658,  1.3934]])"
            ]
          },
          "metadata": {
            "tags": []
          },
          "execution_count": 5
        }
      ]
    },
    {
      "cell_type": "code",
      "metadata": {
        "colab": {
          "base_uri": "https://localhost:8080/"
        },
        "id": "jTH9-LfhnG69",
        "outputId": "d17bb929-6ee8-4c38-ecd0-2de9472a7580"
      },
      "source": [
        "##한번에 간단한 사칙연산 가능\r\n",
        "data*10"
      ],
      "execution_count": 6,
      "outputs": [
        {
          "output_type": "execute_result",
          "data": {
            "text/plain": [
              "array([[-2.0471,  4.7894, -5.1944],\n",
              "       [-5.5573, 19.6578, 13.9341]])"
            ]
          },
          "metadata": {
            "tags": []
          },
          "execution_count": 6
        }
      ]
    },
    {
      "cell_type": "code",
      "metadata": {
        "colab": {
          "base_uri": "https://localhost:8080/"
        },
        "id": "I17FrjvPnLqS",
        "outputId": "081fa959-c276-40aa-a0a7-38a9b1c8faba"
      },
      "source": [
        "##한번에 간단한 사칙연산 가능\r\n",
        "data+data"
      ],
      "execution_count": 7,
      "outputs": [
        {
          "output_type": "execute_result",
          "data": {
            "text/plain": [
              "array([[-0.4094,  0.9579, -1.0389],\n",
              "       [-1.1115,  3.9316,  2.7868]])"
            ]
          },
          "metadata": {
            "tags": []
          },
          "execution_count": 7
        }
      ]
    },
    {
      "cell_type": "code",
      "metadata": {
        "colab": {
          "base_uri": "https://localhost:8080/"
        },
        "id": "83IRoEgVnMeD",
        "outputId": "4df10fdf-767c-407d-c189-c065f4c858e5"
      },
      "source": [
        "##numpy의 크기를 뽑아줌\r\n",
        "\r\n",
        "data.shape"
      ],
      "execution_count": 8,
      "outputs": [
        {
          "output_type": "execute_result",
          "data": {
            "text/plain": [
              "(2, 3)"
            ]
          },
          "metadata": {
            "tags": []
          },
          "execution_count": 8
        }
      ]
    },
    {
      "cell_type": "code",
      "metadata": {
        "colab": {
          "base_uri": "https://localhost:8080/"
        },
        "id": "iEua89FuoFVI",
        "outputId": "3529d793-8961-44b9-ded5-6a5fc59046af"
      },
      "source": [
        "##numpy에 있는 데이터의 타입을 알려줌\r\n",
        "\r\n",
        "data.dtype"
      ],
      "execution_count": 9,
      "outputs": [
        {
          "output_type": "execute_result",
          "data": {
            "text/plain": [
              "dtype('float64')"
            ]
          },
          "metadata": {
            "tags": []
          },
          "execution_count": 9
        }
      ]
    },
    {
      "cell_type": "markdown",
      "metadata": {
        "id": "u464nZc-oTH4"
      },
      "source": [
        "### **Creating ndarrays**"
      ]
    },
    {
      "cell_type": "code",
      "metadata": {
        "colab": {
          "base_uri": "https://localhost:8080/"
        },
        "id": "ZqD2Uo9goGdq",
        "outputId": "cc2c97ec-72b6-43cf-d5fb-35f9829ed0c7"
      },
      "source": [
        "data1 = [6,7.5,8,0,1]\r\n",
        "arr1 = np.array(data1)\r\n",
        "arr1"
      ],
      "execution_count": 10,
      "outputs": [
        {
          "output_type": "execute_result",
          "data": {
            "text/plain": [
              "array([6. , 7.5, 8. , 0. , 1. ])"
            ]
          },
          "metadata": {
            "tags": []
          },
          "execution_count": 10
        }
      ]
    },
    {
      "cell_type": "code",
      "metadata": {
        "colab": {
          "base_uri": "https://localhost:8080/"
        },
        "id": "5DZyYBMJpQkA",
        "outputId": "8f607e39-9c3a-42cd-e1e2-3b7cff91fe7f"
      },
      "source": [
        "data2 = [[1,2,3,4], [5,6,7,8]]\r\n",
        "arr2 = np.array(data2)\r\n",
        "arr2"
      ],
      "execution_count": 11,
      "outputs": [
        {
          "output_type": "execute_result",
          "data": {
            "text/plain": [
              "array([[1, 2, 3, 4],\n",
              "       [5, 6, 7, 8]])"
            ]
          },
          "metadata": {
            "tags": []
          },
          "execution_count": 11
        }
      ]
    },
    {
      "cell_type": "code",
      "metadata": {
        "colab": {
          "base_uri": "https://localhost:8080/"
        },
        "id": "gxwCK1aUpazR",
        "outputId": "e5331601-791f-4188-8a96-bb9f40ab33b3"
      },
      "source": [
        "## []로 된게 2개 있으니까...\r\n",
        "\r\n",
        "arr2.ndim"
      ],
      "execution_count": 12,
      "outputs": [
        {
          "output_type": "execute_result",
          "data": {
            "text/plain": [
              "2"
            ]
          },
          "metadata": {
            "tags": []
          },
          "execution_count": 12
        }
      ]
    },
    {
      "cell_type": "code",
      "metadata": {
        "colab": {
          "base_uri": "https://localhost:8080/"
        },
        "id": "T3-L89ZfpeFg",
        "outputId": "1bd83617-86ae-4c68-df21-8bcf753020ab"
      },
      "source": [
        "##2개의 array, 각각은 4개의 성분\r\n",
        "\r\n",
        "arr2.shape"
      ],
      "execution_count": 13,
      "outputs": [
        {
          "output_type": "execute_result",
          "data": {
            "text/plain": [
              "(2, 4)"
            ]
          },
          "metadata": {
            "tags": []
          },
          "execution_count": 13
        }
      ]
    },
    {
      "cell_type": "code",
      "metadata": {
        "colab": {
          "base_uri": "https://localhost:8080/"
        },
        "id": "GSWRfXl3phDT",
        "outputId": "39019c70-dd8c-45a3-c658-dda0e6341c9c"
      },
      "source": [
        "##실수가 있기 때문에 dtype이 float가 나옴\r\n",
        "\r\n",
        "arr1.dtype"
      ],
      "execution_count": 14,
      "outputs": [
        {
          "output_type": "execute_result",
          "data": {
            "text/plain": [
              "dtype('float64')"
            ]
          },
          "metadata": {
            "tags": []
          },
          "execution_count": 14
        }
      ]
    },
    {
      "cell_type": "code",
      "metadata": {
        "colab": {
          "base_uri": "https://localhost:8080/"
        },
        "id": "gtLWa8p4psgD",
        "outputId": "a7a0a1bf-4e67-41a2-bbca-f2ffa1499b8a"
      },
      "source": [
        "##모두 정수이기 때문에 dtype에서 int가 나옴 \r\n",
        "\r\n",
        "arr2.dtype"
      ],
      "execution_count": 15,
      "outputs": [
        {
          "output_type": "execute_result",
          "data": {
            "text/plain": [
              "dtype('int64')"
            ]
          },
          "metadata": {
            "tags": []
          },
          "execution_count": 15
        }
      ]
    },
    {
      "cell_type": "markdown",
      "metadata": {
        "id": "mHM3_V_Nqnle"
      },
      "source": [
        "np.zeros(shape)로 0으로만 이루어진 numpy array를 만들 수 있다"
      ]
    },
    {
      "cell_type": "code",
      "metadata": {
        "colab": {
          "base_uri": "https://localhost:8080/"
        },
        "id": "bHkcRGE5pt1d",
        "outputId": "3f854231-c9be-4b08-d5d4-ef3ce395d899"
      },
      "source": [
        "np.zeros(10)"
      ],
      "execution_count": 16,
      "outputs": [
        {
          "output_type": "execute_result",
          "data": {
            "text/plain": [
              "array([0., 0., 0., 0., 0., 0., 0., 0., 0., 0.])"
            ]
          },
          "metadata": {
            "tags": []
          },
          "execution_count": 16
        }
      ]
    },
    {
      "cell_type": "code",
      "metadata": {
        "colab": {
          "base_uri": "https://localhost:8080/"
        },
        "id": "Z8rXhhF6qgLj",
        "outputId": "7491c5e9-6c5c-4a55-e709-1c58f0b0f74e"
      },
      "source": [
        "np.zeros((3,6))"
      ],
      "execution_count": 17,
      "outputs": [
        {
          "output_type": "execute_result",
          "data": {
            "text/plain": [
              "array([[0., 0., 0., 0., 0., 0.],\n",
              "       [0., 0., 0., 0., 0., 0.],\n",
              "       [0., 0., 0., 0., 0., 0.]])"
            ]
          },
          "metadata": {
            "tags": []
          },
          "execution_count": 17
        }
      ]
    },
    {
      "cell_type": "code",
      "metadata": {
        "colab": {
          "base_uri": "https://localhost:8080/"
        },
        "id": "VbMNQT3lqh6y",
        "outputId": "2b54481b-0ce7-47e9-8cbf-a5d1bfe039e6"
      },
      "source": [
        "np.empty((2,3,2))"
      ],
      "execution_count": 18,
      "outputs": [
        {
          "output_type": "execute_result",
          "data": {
            "text/plain": [
              "array([[[0., 0.],\n",
              "        [0., 0.],\n",
              "        [0., 0.]],\n",
              "\n",
              "       [[0., 0.],\n",
              "        [0., 0.],\n",
              "        [0., 0.]]])"
            ]
          },
          "metadata": {
            "tags": []
          },
          "execution_count": 18
        }
      ]
    },
    {
      "cell_type": "markdown",
      "metadata": {
        "id": "2W_8nAGErkjL"
      },
      "source": [
        "np.arange(a): 0~(a-1)까지의 값을 갖는 numpy array"
      ]
    },
    {
      "cell_type": "code",
      "metadata": {
        "colab": {
          "base_uri": "https://localhost:8080/"
        },
        "id": "_tjyZ0j_qjpw",
        "outputId": "8b9d7141-f2b6-4aca-a83d-98f8b3161a2b"
      },
      "source": [
        "np.arange(15)"
      ],
      "execution_count": 19,
      "outputs": [
        {
          "output_type": "execute_result",
          "data": {
            "text/plain": [
              "array([ 0,  1,  2,  3,  4,  5,  6,  7,  8,  9, 10, 11, 12, 13, 14])"
            ]
          },
          "metadata": {
            "tags": []
          },
          "execution_count": 19
        }
      ]
    },
    {
      "cell_type": "markdown",
      "metadata": {
        "id": "VAQOxqioruQR"
      },
      "source": [
        "### **Data Types for ndarrays**"
      ]
    },
    {
      "cell_type": "markdown",
      "metadata": {
        "id": "t2xCUGwyskwy"
      },
      "source": [
        "dtype을 직접 설정가능"
      ]
    },
    {
      "cell_type": "code",
      "metadata": {
        "id": "MhVMQ4Wuqly7"
      },
      "source": [
        "arr1 = np.array([1,2,3], dtype=np.float64)\r\n",
        "arr2 = np.array([1,2,3], dtype=np.int32)"
      ],
      "execution_count": 20,
      "outputs": []
    },
    {
      "cell_type": "code",
      "metadata": {
        "colab": {
          "base_uri": "https://localhost:8080/"
        },
        "id": "dnreGhMKr8l_",
        "outputId": "79316f23-3a7e-4b9c-93e2-1aedd8745077"
      },
      "source": [
        "arr1.dtype"
      ],
      "execution_count": 21,
      "outputs": [
        {
          "output_type": "execute_result",
          "data": {
            "text/plain": [
              "dtype('float64')"
            ]
          },
          "metadata": {
            "tags": []
          },
          "execution_count": 21
        }
      ]
    },
    {
      "cell_type": "code",
      "metadata": {
        "colab": {
          "base_uri": "https://localhost:8080/"
        },
        "id": "GE5CW5lOr9h0",
        "outputId": "f00445c0-56bb-460f-bf62-c39c30ce326c"
      },
      "source": [
        "arr2.dtype"
      ],
      "execution_count": 22,
      "outputs": [
        {
          "output_type": "execute_result",
          "data": {
            "text/plain": [
              "dtype('int32')"
            ]
          },
          "metadata": {
            "tags": []
          },
          "execution_count": 22
        }
      ]
    },
    {
      "cell_type": "markdown",
      "metadata": {
        "id": "3xI9WG9rszQg"
      },
      "source": [
        "기존에 만든 array의 dtype을 astype으로 변경 가능"
      ]
    },
    {
      "cell_type": "code",
      "metadata": {
        "colab": {
          "base_uri": "https://localhost:8080/"
        },
        "id": "hq2GiJcSr-Ve",
        "outputId": "eca24ed1-30e8-437a-fe32-e5255ef66f9b"
      },
      "source": [
        "arr = np.array([1,2,3,4,5])\r\n",
        "arr.dtype"
      ],
      "execution_count": 23,
      "outputs": [
        {
          "output_type": "execute_result",
          "data": {
            "text/plain": [
              "dtype('int64')"
            ]
          },
          "metadata": {
            "tags": []
          },
          "execution_count": 23
        }
      ]
    },
    {
      "cell_type": "code",
      "metadata": {
        "colab": {
          "base_uri": "https://localhost:8080/"
        },
        "id": "HReuBTLZsqHO",
        "outputId": "db817396-e1f0-4081-d79b-932162453625"
      },
      "source": [
        "float_arr = arr.astype(np.float64)\r\n",
        "float_arr.dtype"
      ],
      "execution_count": 24,
      "outputs": [
        {
          "output_type": "execute_result",
          "data": {
            "text/plain": [
              "dtype('float64')"
            ]
          },
          "metadata": {
            "tags": []
          },
          "execution_count": 24
        }
      ]
    },
    {
      "cell_type": "code",
      "metadata": {
        "colab": {
          "base_uri": "https://localhost:8080/"
        },
        "id": "9z72YC5Tssto",
        "outputId": "4a53a62a-206c-4ce6-88c6-4d789bdea4ec"
      },
      "source": [
        "arr = np.array([3.7, -1.2, -2.6, 0.5, 12.9, 10.1])\r\n",
        "arr\r\n",
        "arr.astype(np.int32)"
      ],
      "execution_count": 25,
      "outputs": [
        {
          "output_type": "execute_result",
          "data": {
            "text/plain": [
              "array([ 3, -1, -2,  0, 12, 10], dtype=int32)"
            ]
          },
          "metadata": {
            "tags": []
          },
          "execution_count": 25
        }
      ]
    },
    {
      "cell_type": "markdown",
      "metadata": {
        "id": "eA71yOVIvyjA"
      },
      "source": [
        "np.string_이라는 type을 쓸때는 size가 고정되어 있어 주의해야함"
      ]
    },
    {
      "cell_type": "code",
      "metadata": {
        "colab": {
          "base_uri": "https://localhost:8080/"
        },
        "id": "Iz2RcM2duIiW",
        "outputId": "816918e8-c271-433c-f462-cbfb69d1590f"
      },
      "source": [
        "numeric_strings = np.array(['1.25', '-9.6', '42'], dtype=np.string_)\r\n",
        "numeric_strings.astype(float)"
      ],
      "execution_count": 26,
      "outputs": [
        {
          "output_type": "execute_result",
          "data": {
            "text/plain": [
              "array([ 1.25, -9.6 , 42.  ])"
            ]
          },
          "metadata": {
            "tags": []
          },
          "execution_count": 26
        }
      ]
    },
    {
      "cell_type": "code",
      "metadata": {
        "colab": {
          "base_uri": "https://localhost:8080/"
        },
        "id": "H8qozMsjuMzo",
        "outputId": "573239f3-82b0-4bff-9eb5-7f10dda66b70"
      },
      "source": [
        "numeric_strings.dtype"
      ],
      "execution_count": 27,
      "outputs": [
        {
          "output_type": "execute_result",
          "data": {
            "text/plain": [
              "dtype('S4')"
            ]
          },
          "metadata": {
            "tags": []
          },
          "execution_count": 27
        }
      ]
    },
    {
      "cell_type": "markdown",
      "metadata": {
        "id": "5OcUFfH4vvtd"
      },
      "source": [
        "다른 array의 dtype을 부여하는 것도 가능"
      ]
    },
    {
      "cell_type": "code",
      "metadata": {
        "colab": {
          "base_uri": "https://localhost:8080/"
        },
        "id": "X6nRVG6_uQuy",
        "outputId": "a622af77-5ba5-4361-a4cc-95c4f6dac7c0"
      },
      "source": [
        "int_array = np.arange(10)\r\n",
        "calibers = np.array([.22,.270,.357,.380,.44,.50], dtype=np.float64)\r\n",
        "int_array.astype(calibers.dtype)"
      ],
      "execution_count": 28,
      "outputs": [
        {
          "output_type": "execute_result",
          "data": {
            "text/plain": [
              "array([0., 1., 2., 3., 4., 5., 6., 7., 8., 9.])"
            ]
          },
          "metadata": {
            "tags": []
          },
          "execution_count": 28
        }
      ]
    },
    {
      "cell_type": "markdown",
      "metadata": {
        "id": "j54CwvumyIl9"
      },
      "source": [
        "u4 라는 dtype이 존재"
      ]
    },
    {
      "cell_type": "code",
      "metadata": {
        "colab": {
          "base_uri": "https://localhost:8080/"
        },
        "id": "8G5DQiQ6vsSd",
        "outputId": "21d358a2-26fb-4c99-e745-041f98f38508"
      },
      "source": [
        "empty_uint32 = np.empty(8, dtype='u4')\r\n",
        "empty_uint32"
      ],
      "execution_count": 29,
      "outputs": [
        {
          "output_type": "execute_result",
          "data": {
            "text/plain": [
              "array([         0, 1075314688,          0, 1075707904,          0,\n",
              "       1075838976,          0, 1072693248], dtype=uint32)"
            ]
          },
          "metadata": {
            "tags": []
          },
          "execution_count": 29
        }
      ]
    },
    {
      "cell_type": "markdown",
      "metadata": {
        "id": "idv6AQtCyPnS"
      },
      "source": [
        "### **Arithmetic with NumPy Arrays**"
      ]
    },
    {
      "cell_type": "markdown",
      "metadata": {
        "id": "7DbWwfoayfUz"
      },
      "source": [
        "자기와 같은 위치에 있는 값끼리 사칙연산을 함"
      ]
    },
    {
      "cell_type": "code",
      "metadata": {
        "colab": {
          "base_uri": "https://localhost:8080/"
        },
        "id": "4nM5q8AgyLIR",
        "outputId": "fa4f0401-aa33-45f5-ed1f-143ef9f80d1e"
      },
      "source": [
        "arr = np.array([[1.,2.,3.], [4.,5.,6.]])\r\n",
        "arr"
      ],
      "execution_count": 30,
      "outputs": [
        {
          "output_type": "execute_result",
          "data": {
            "text/plain": [
              "array([[1., 2., 3.],\n",
              "       [4., 5., 6.]])"
            ]
          },
          "metadata": {
            "tags": []
          },
          "execution_count": 30
        }
      ]
    },
    {
      "cell_type": "code",
      "metadata": {
        "colab": {
          "base_uri": "https://localhost:8080/"
        },
        "id": "VNt8qIPEycHg",
        "outputId": "9a6e8d58-d017-411c-afc4-c42a06f8e4c0"
      },
      "source": [
        "arr*arr"
      ],
      "execution_count": 31,
      "outputs": [
        {
          "output_type": "execute_result",
          "data": {
            "text/plain": [
              "array([[ 1.,  4.,  9.],\n",
              "       [16., 25., 36.]])"
            ]
          },
          "metadata": {
            "tags": []
          },
          "execution_count": 31
        }
      ]
    },
    {
      "cell_type": "code",
      "metadata": {
        "colab": {
          "base_uri": "https://localhost:8080/"
        },
        "id": "VJlyxzTqydN3",
        "outputId": "357c9660-5dc8-45bc-edd0-e3633fc69f45"
      },
      "source": [
        "arr-arr"
      ],
      "execution_count": 32,
      "outputs": [
        {
          "output_type": "execute_result",
          "data": {
            "text/plain": [
              "array([[0., 0., 0.],\n",
              "       [0., 0., 0.]])"
            ]
          },
          "metadata": {
            "tags": []
          },
          "execution_count": 32
        }
      ]
    },
    {
      "cell_type": "code",
      "metadata": {
        "colab": {
          "base_uri": "https://localhost:8080/"
        },
        "id": "_yYaEqygyd08",
        "outputId": "06f832ea-8655-444f-beca-f39a838f6b83"
      },
      "source": [
        "1/arr"
      ],
      "execution_count": 33,
      "outputs": [
        {
          "output_type": "execute_result",
          "data": {
            "text/plain": [
              "array([[1.    , 0.5   , 0.3333],\n",
              "       [0.25  , 0.2   , 0.1667]])"
            ]
          },
          "metadata": {
            "tags": []
          },
          "execution_count": 33
        }
      ]
    },
    {
      "cell_type": "code",
      "metadata": {
        "colab": {
          "base_uri": "https://localhost:8080/"
        },
        "id": "oowqPdqXyjI9",
        "outputId": "514fbee4-5c61-4637-c156-5b2dc4210801"
      },
      "source": [
        "arr**0.5"
      ],
      "execution_count": 34,
      "outputs": [
        {
          "output_type": "execute_result",
          "data": {
            "text/plain": [
              "array([[1.    , 1.4142, 1.7321],\n",
              "       [2.    , 2.2361, 2.4495]])"
            ]
          },
          "metadata": {
            "tags": []
          },
          "execution_count": 34
        }
      ]
    },
    {
      "cell_type": "code",
      "metadata": {
        "colab": {
          "base_uri": "https://localhost:8080/"
        },
        "id": "pETzFotpzDqc",
        "outputId": "b65ccc90-48be-416d-8a8b-090cf5cf0c76"
      },
      "source": [
        "arr2 = np.array([[0., 4., 1.], [7., 2., 12.]])\r\n",
        "arr2"
      ],
      "execution_count": 35,
      "outputs": [
        {
          "output_type": "execute_result",
          "data": {
            "text/plain": [
              "array([[ 0.,  4.,  1.],\n",
              "       [ 7.,  2., 12.]])"
            ]
          },
          "metadata": {
            "tags": []
          },
          "execution_count": 35
        }
      ]
    },
    {
      "cell_type": "code",
      "metadata": {
        "colab": {
          "base_uri": "https://localhost:8080/"
        },
        "id": "h8cCsTzjzNZO",
        "outputId": "aa213e84-0a8e-448c-cbf7-dbe83c9c0b79"
      },
      "source": [
        "arr2 > arr"
      ],
      "execution_count": 36,
      "outputs": [
        {
          "output_type": "execute_result",
          "data": {
            "text/plain": [
              "array([[False,  True, False],\n",
              "       [ True, False,  True]])"
            ]
          },
          "metadata": {
            "tags": []
          },
          "execution_count": 36
        }
      ]
    },
    {
      "cell_type": "markdown",
      "metadata": {
        "id": "aiYsZGZDzRna"
      },
      "source": [
        "### **Basic Indexing and Slicing**"
      ]
    },
    {
      "cell_type": "code",
      "metadata": {
        "colab": {
          "base_uri": "https://localhost:8080/"
        },
        "id": "Y6nUraE9zO3l",
        "outputId": "93403438-86a2-4228-98ba-994742086503"
      },
      "source": [
        "arr = np.arange(10)\r\n",
        "arr"
      ],
      "execution_count": 37,
      "outputs": [
        {
          "output_type": "execute_result",
          "data": {
            "text/plain": [
              "array([0, 1, 2, 3, 4, 5, 6, 7, 8, 9])"
            ]
          },
          "metadata": {
            "tags": []
          },
          "execution_count": 37
        }
      ]
    },
    {
      "cell_type": "markdown",
      "metadata": {
        "id": "cfmyxjpK0TcO"
      },
      "source": [
        "각 값에 index를 이용해서 불러내기 가능"
      ]
    },
    {
      "cell_type": "code",
      "metadata": {
        "colab": {
          "base_uri": "https://localhost:8080/"
        },
        "id": "nvva9pSh0LCb",
        "outputId": "751b2f8a-789f-47a4-f300-acdfb7d46131"
      },
      "source": [
        "arr[5]"
      ],
      "execution_count": 38,
      "outputs": [
        {
          "output_type": "execute_result",
          "data": {
            "text/plain": [
              "5"
            ]
          },
          "metadata": {
            "tags": []
          },
          "execution_count": 38
        }
      ]
    },
    {
      "cell_type": "code",
      "metadata": {
        "colab": {
          "base_uri": "https://localhost:8080/"
        },
        "id": "7tSMABo50MME",
        "outputId": "3860ed77-3c0e-41f8-f83e-33dcfe5e4dc1"
      },
      "source": [
        "arr[5:8]"
      ],
      "execution_count": 39,
      "outputs": [
        {
          "output_type": "execute_result",
          "data": {
            "text/plain": [
              "array([5, 6, 7])"
            ]
          },
          "metadata": {
            "tags": []
          },
          "execution_count": 39
        }
      ]
    },
    {
      "cell_type": "markdown",
      "metadata": {
        "id": "cyquzv7D0WS0"
      },
      "source": [
        "indexing 한 값들을 바꾸어버릴수도 있음"
      ]
    },
    {
      "cell_type": "code",
      "metadata": {
        "colab": {
          "base_uri": "https://localhost:8080/"
        },
        "id": "4iPZZAve0N1i",
        "outputId": "32afe78b-3e05-4b43-8b01-0d74e4885cb2"
      },
      "source": [
        "arr[5:8] =12\r\n",
        "arr"
      ],
      "execution_count": 40,
      "outputs": [
        {
          "output_type": "execute_result",
          "data": {
            "text/plain": [
              "array([ 0,  1,  2,  3,  4, 12, 12, 12,  8,  9])"
            ]
          },
          "metadata": {
            "tags": []
          },
          "execution_count": 40
        }
      ]
    },
    {
      "cell_type": "code",
      "metadata": {
        "colab": {
          "base_uri": "https://localhost:8080/"
        },
        "id": "Vubjo2i50QwD",
        "outputId": "3261a424-44e3-42de-c198-7ea47c24c1fb"
      },
      "source": [
        "arr_slice = arr[5:8]\r\n",
        "arr_slice"
      ],
      "execution_count": 41,
      "outputs": [
        {
          "output_type": "execute_result",
          "data": {
            "text/plain": [
              "array([12, 12, 12])"
            ]
          },
          "metadata": {
            "tags": []
          },
          "execution_count": 41
        }
      ]
    },
    {
      "cell_type": "markdown",
      "metadata": {
        "id": "onHjHEDE01oc"
      },
      "source": [
        "arr_slice의 값을 바꾸면 arr[5:8]에 이게 반영됨"
      ]
    },
    {
      "cell_type": "code",
      "metadata": {
        "colab": {
          "base_uri": "https://localhost:8080/"
        },
        "id": "WUdjS8830tIG",
        "outputId": "de8eba99-0a6a-4b35-9aa2-4e57691383d8"
      },
      "source": [
        "arr_slice[1]=12345\r\n",
        "arr"
      ],
      "execution_count": 42,
      "outputs": [
        {
          "output_type": "execute_result",
          "data": {
            "text/plain": [
              "array([    0,     1,     2,     3,     4,    12, 12345,    12,     8,\n",
              "           9])"
            ]
          },
          "metadata": {
            "tags": []
          },
          "execution_count": 42
        }
      ]
    },
    {
      "cell_type": "markdown",
      "metadata": {
        "id": "OSScOHB41KKu"
      },
      "source": [
        "arr_slice (arr[5:8])의 모든값이 64로 바뀐 모습"
      ]
    },
    {
      "cell_type": "code",
      "metadata": {
        "colab": {
          "base_uri": "https://localhost:8080/"
        },
        "id": "C8xb57Ge0xJ3",
        "outputId": "17a88110-a8fa-4403-d552-97bcf24b2011"
      },
      "source": [
        "arr_slice[:]=64\r\n",
        "arr"
      ],
      "execution_count": 43,
      "outputs": [
        {
          "output_type": "execute_result",
          "data": {
            "text/plain": [
              "array([ 0,  1,  2,  3,  4, 64, 64, 64,  8,  9])"
            ]
          },
          "metadata": {
            "tags": []
          },
          "execution_count": 43
        }
      ]
    },
    {
      "cell_type": "markdown",
      "metadata": {
        "id": "_23DSkMA1Zeb"
      },
      "source": [
        "0,1,2에서 2번째(사실상 3번쨰)의 array가 index되어 나옴"
      ]
    },
    {
      "cell_type": "code",
      "metadata": {
        "colab": {
          "base_uri": "https://localhost:8080/"
        },
        "id": "NZtcd6KS1Cnp",
        "outputId": "5f614d01-5310-49ed-faf6-b560418ce5cd"
      },
      "source": [
        "arr2d = np.array([[1, 2, 3], [4, 5, 6], [7, 8, 9]])\r\n",
        "arr2d[2]"
      ],
      "execution_count": 44,
      "outputs": [
        {
          "output_type": "execute_result",
          "data": {
            "text/plain": [
              "array([7, 8, 9])"
            ]
          },
          "metadata": {
            "tags": []
          },
          "execution_count": 44
        }
      ]
    },
    {
      "cell_type": "markdown",
      "metadata": {
        "id": "GPWtM_5S1iAs"
      },
      "source": [
        "0번째의 array에서 2번째의 값이 indexing"
      ]
    },
    {
      "cell_type": "code",
      "metadata": {
        "colab": {
          "base_uri": "https://localhost:8080/"
        },
        "id": "5TPeaIuR1XfS",
        "outputId": "e01f5554-029f-46e0-ea6c-185b896e84db"
      },
      "source": [
        "arr2d[0][2]\r\n"
      ],
      "execution_count": 45,
      "outputs": [
        {
          "output_type": "execute_result",
          "data": {
            "text/plain": [
              "3"
            ]
          },
          "metadata": {
            "tags": []
          },
          "execution_count": 45
        }
      ]
    },
    {
      "cell_type": "markdown",
      "metadata": {
        "id": "tj3t1VbS123u"
      },
      "source": [
        "이렇게 표현할 수도 있음"
      ]
    },
    {
      "cell_type": "code",
      "metadata": {
        "colab": {
          "base_uri": "https://localhost:8080/"
        },
        "id": "wed0Hvv81gjM",
        "outputId": "219293f1-65b2-4046-b7c8-f07669459495"
      },
      "source": [
        "arr2d[0, 2]"
      ],
      "execution_count": 46,
      "outputs": [
        {
          "output_type": "execute_result",
          "data": {
            "text/plain": [
              "3"
            ]
          },
          "metadata": {
            "tags": []
          },
          "execution_count": 46
        }
      ]
    },
    {
      "cell_type": "code",
      "metadata": {
        "colab": {
          "base_uri": "https://localhost:8080/"
        },
        "id": "FfskEQON1hMz",
        "outputId": "1e1af9be-ee52-4ed4-d737-ca6f5962958f"
      },
      "source": [
        "arr3d = np.array([[[1, 2, 3], [4, 5, 6]], [[7, 8, 9], [10, 11, 12]]])\r\n",
        "arr3d"
      ],
      "execution_count": 47,
      "outputs": [
        {
          "output_type": "execute_result",
          "data": {
            "text/plain": [
              "array([[[ 1,  2,  3],\n",
              "        [ 4,  5,  6]],\n",
              "\n",
              "       [[ 7,  8,  9],\n",
              "        [10, 11, 12]]])"
            ]
          },
          "metadata": {
            "tags": []
          },
          "execution_count": 47
        }
      ]
    },
    {
      "cell_type": "code",
      "metadata": {
        "colab": {
          "base_uri": "https://localhost:8080/"
        },
        "id": "yOfRHbBB2X8Q",
        "outputId": "6664a8d5-a0b0-4274-949d-a17586e1a60b"
      },
      "source": [
        "arr3d[0]"
      ],
      "execution_count": 48,
      "outputs": [
        {
          "output_type": "execute_result",
          "data": {
            "text/plain": [
              "array([[1, 2, 3],\n",
              "       [4, 5, 6]])"
            ]
          },
          "metadata": {
            "tags": []
          },
          "execution_count": 48
        }
      ]
    },
    {
      "cell_type": "code",
      "metadata": {
        "colab": {
          "base_uri": "https://localhost:8080/"
        },
        "id": "iX-JN2-t2Zrg",
        "outputId": "d71131b8-4a49-4d80-86bf-ec0b101f33c9"
      },
      "source": [
        "old_values = arr3d[0].copy()\r\n",
        "arr3d[0] = 42\r\n",
        "arr3d\r\n"
      ],
      "execution_count": 49,
      "outputs": [
        {
          "output_type": "execute_result",
          "data": {
            "text/plain": [
              "array([[[42, 42, 42],\n",
              "        [42, 42, 42]],\n",
              "\n",
              "       [[ 7,  8,  9],\n",
              "        [10, 11, 12]]])"
            ]
          },
          "metadata": {
            "tags": []
          },
          "execution_count": 49
        }
      ]
    },
    {
      "cell_type": "code",
      "metadata": {
        "colab": {
          "base_uri": "https://localhost:8080/"
        },
        "id": "dqTp9kFK2cUT",
        "outputId": "6624fe0e-39b3-4f27-8a0b-2060bb718165"
      },
      "source": [
        "arr3d[0] = old_values\r\n",
        "arr3d"
      ],
      "execution_count": 50,
      "outputs": [
        {
          "output_type": "execute_result",
          "data": {
            "text/plain": [
              "array([[[ 1,  2,  3],\n",
              "        [ 4,  5,  6]],\n",
              "\n",
              "       [[ 7,  8,  9],\n",
              "        [10, 11, 12]]])"
            ]
          },
          "metadata": {
            "tags": []
          },
          "execution_count": 50
        }
      ]
    },
    {
      "cell_type": "markdown",
      "metadata": {
        "id": "aCDPWQND2hHM"
      },
      "source": [
        "1번째 2d array에서의 0번째 array를 가져옴"
      ]
    },
    {
      "cell_type": "code",
      "metadata": {
        "colab": {
          "base_uri": "https://localhost:8080/"
        },
        "id": "zWyQTJ6X2e-T",
        "outputId": "e5466f6b-e8fb-46f1-ea05-dae0d596811b"
      },
      "source": [
        "arr3d[1, 0]"
      ],
      "execution_count": 51,
      "outputs": [
        {
          "output_type": "execute_result",
          "data": {
            "text/plain": [
              "array([7, 8, 9])"
            ]
          },
          "metadata": {
            "tags": []
          },
          "execution_count": 51
        }
      ]
    },
    {
      "cell_type": "code",
      "metadata": {
        "colab": {
          "base_uri": "https://localhost:8080/"
        },
        "id": "w2JYWKls2gLs",
        "outputId": "c245b06a-95eb-4de8-a7d0-27c44b1f799c"
      },
      "source": [
        "x = arr3d[1]\r\n",
        "x\r\n"
      ],
      "execution_count": 52,
      "outputs": [
        {
          "output_type": "execute_result",
          "data": {
            "text/plain": [
              "array([[ 7,  8,  9],\n",
              "       [10, 11, 12]])"
            ]
          },
          "metadata": {
            "tags": []
          },
          "execution_count": 52
        }
      ]
    },
    {
      "cell_type": "code",
      "metadata": {
        "colab": {
          "base_uri": "https://localhost:8080/"
        },
        "id": "62Na_vC82pJT",
        "outputId": "68dd9bbd-16ff-4ff5-c380-ac8bafe5d3b4"
      },
      "source": [
        "x[0]"
      ],
      "execution_count": 53,
      "outputs": [
        {
          "output_type": "execute_result",
          "data": {
            "text/plain": [
              "array([7, 8, 9])"
            ]
          },
          "metadata": {
            "tags": []
          },
          "execution_count": 53
        }
      ]
    },
    {
      "cell_type": "markdown",
      "metadata": {
        "id": "TuumbJyQ2sVD"
      },
      "source": [
        "#### **Indexing with slices**"
      ]
    },
    {
      "cell_type": "code",
      "metadata": {
        "colab": {
          "base_uri": "https://localhost:8080/"
        },
        "id": "ubiHb8nj2qRd",
        "outputId": "9cd4727f-3610-4b43-fee5-9a68869faaa0"
      },
      "source": [
        "arr"
      ],
      "execution_count": 54,
      "outputs": [
        {
          "output_type": "execute_result",
          "data": {
            "text/plain": [
              "array([ 0,  1,  2,  3,  4, 64, 64, 64,  8,  9])"
            ]
          },
          "metadata": {
            "tags": []
          },
          "execution_count": 54
        }
      ]
    },
    {
      "cell_type": "code",
      "metadata": {
        "colab": {
          "base_uri": "https://localhost:8080/"
        },
        "id": "f_L0d3jP3LiT",
        "outputId": "6e189fbc-6e97-4fb2-828c-c4f23b26db01"
      },
      "source": [
        "arr[1:6]"
      ],
      "execution_count": 55,
      "outputs": [
        {
          "output_type": "execute_result",
          "data": {
            "text/plain": [
              "array([ 1,  2,  3,  4, 64])"
            ]
          },
          "metadata": {
            "tags": []
          },
          "execution_count": 55
        }
      ]
    },
    {
      "cell_type": "code",
      "metadata": {
        "colab": {
          "base_uri": "https://localhost:8080/"
        },
        "id": "D3woxnTX3Qqj",
        "outputId": "cd79654c-74a2-4a50-cad6-de4516d27c8d"
      },
      "source": [
        "arr2d"
      ],
      "execution_count": 56,
      "outputs": [
        {
          "output_type": "execute_result",
          "data": {
            "text/plain": [
              "array([[1, 2, 3],\n",
              "       [4, 5, 6],\n",
              "       [7, 8, 9]])"
            ]
          },
          "metadata": {
            "tags": []
          },
          "execution_count": 56
        }
      ]
    },
    {
      "cell_type": "code",
      "metadata": {
        "colab": {
          "base_uri": "https://localhost:8080/"
        },
        "id": "YFgyhlVX3Y_I",
        "outputId": "03c9fae5-c253-4f25-de9e-c69ad876147b"
      },
      "source": [
        "arr2d[:2]"
      ],
      "execution_count": 57,
      "outputs": [
        {
          "output_type": "execute_result",
          "data": {
            "text/plain": [
              "array([[1, 2, 3],\n",
              "       [4, 5, 6]])"
            ]
          },
          "metadata": {
            "tags": []
          },
          "execution_count": 57
        }
      ]
    },
    {
      "cell_type": "code",
      "metadata": {
        "colab": {
          "base_uri": "https://localhost:8080/"
        },
        "id": "n5Hgk7Ef3Rob",
        "outputId": "20b96c4a-668c-4c04-c4a5-518bf605eeaa"
      },
      "source": [
        "arr2d[:2,1:]"
      ],
      "execution_count": 58,
      "outputs": [
        {
          "output_type": "execute_result",
          "data": {
            "text/plain": [
              "array([[2, 3],\n",
              "       [5, 6]])"
            ]
          },
          "metadata": {
            "tags": []
          },
          "execution_count": 58
        }
      ]
    },
    {
      "cell_type": "code",
      "metadata": {
        "colab": {
          "base_uri": "https://localhost:8080/"
        },
        "id": "TvSy6Wzo3Tq1",
        "outputId": "3e030ec2-7702-4b1b-a778-2910c658cb43"
      },
      "source": [
        "arr2d[1, :2]"
      ],
      "execution_count": 59,
      "outputs": [
        {
          "output_type": "execute_result",
          "data": {
            "text/plain": [
              "array([4, 5])"
            ]
          },
          "metadata": {
            "tags": []
          },
          "execution_count": 59
        }
      ]
    },
    {
      "cell_type": "code",
      "metadata": {
        "colab": {
          "base_uri": "https://localhost:8080/"
        },
        "id": "B0H67bcs3eXr",
        "outputId": "f8b203aa-9084-47dd-889d-9eba560ad8d0"
      },
      "source": [
        "arr2d[:2, 2]"
      ],
      "execution_count": 60,
      "outputs": [
        {
          "output_type": "execute_result",
          "data": {
            "text/plain": [
              "array([3, 6])"
            ]
          },
          "metadata": {
            "tags": []
          },
          "execution_count": 60
        }
      ]
    },
    {
      "cell_type": "code",
      "metadata": {
        "colab": {
          "base_uri": "https://localhost:8080/"
        },
        "id": "2By2ozI-3hyz",
        "outputId": "7adc2b82-009c-4c87-ddf7-1d623934c415"
      },
      "source": [
        "arr2d[:,:1]"
      ],
      "execution_count": 61,
      "outputs": [
        {
          "output_type": "execute_result",
          "data": {
            "text/plain": [
              "array([[1],\n",
              "       [4],\n",
              "       [7]])"
            ]
          },
          "metadata": {
            "tags": []
          },
          "execution_count": 61
        }
      ]
    },
    {
      "cell_type": "code",
      "metadata": {
        "colab": {
          "base_uri": "https://localhost:8080/"
        },
        "id": "_Ep245Ku3lLd",
        "outputId": "b80ec065-7ac0-4e35-d51c-3e4e94e6a750"
      },
      "source": [
        "arr2d[:2, 1:]=0\r\n",
        "arr2d"
      ],
      "execution_count": 62,
      "outputs": [
        {
          "output_type": "execute_result",
          "data": {
            "text/plain": [
              "array([[1, 0, 0],\n",
              "       [4, 0, 0],\n",
              "       [7, 8, 9]])"
            ]
          },
          "metadata": {
            "tags": []
          },
          "execution_count": 62
        }
      ]
    },
    {
      "cell_type": "markdown",
      "metadata": {
        "id": "AWDs6mk737HP"
      },
      "source": [
        "### **Boolean Indexing**"
      ]
    },
    {
      "cell_type": "code",
      "metadata": {
        "id": "PytVRJcD3oTq"
      },
      "source": [
        "names = np.array(['Bob', 'Joe', 'Will', 'Bob', 'Will', 'Joe', 'Joe'])\r\n",
        "data = np.random.randn(7,4)"
      ],
      "execution_count": 63,
      "outputs": []
    },
    {
      "cell_type": "code",
      "metadata": {
        "colab": {
          "base_uri": "https://localhost:8080/"
        },
        "id": "Sjz5em3n4O8N",
        "outputId": "203435fd-6d92-4ce2-f608-26c6ccbd0dfe"
      },
      "source": [
        "names"
      ],
      "execution_count": 64,
      "outputs": [
        {
          "output_type": "execute_result",
          "data": {
            "text/plain": [
              "array(['Bob', 'Joe', 'Will', 'Bob', 'Will', 'Joe', 'Joe'], dtype='<U4')"
            ]
          },
          "metadata": {
            "tags": []
          },
          "execution_count": 64
        }
      ]
    },
    {
      "cell_type": "code",
      "metadata": {
        "colab": {
          "base_uri": "https://localhost:8080/"
        },
        "id": "X5CJbZhc4V5I",
        "outputId": "5cffc390-b906-47dc-fee5-bf24a69c9752"
      },
      "source": [
        "data"
      ],
      "execution_count": 65,
      "outputs": [
        {
          "output_type": "execute_result",
          "data": {
            "text/plain": [
              "array([[ 0.0929,  0.2817,  0.769 ,  1.2464],\n",
              "       [ 1.0072, -1.2962,  0.275 ,  0.2289],\n",
              "       [ 1.3529,  0.8864, -2.0016, -0.3718],\n",
              "       [ 1.669 , -0.4386, -0.5397,  0.477 ],\n",
              "       [ 3.2489, -1.0212, -0.5771,  0.1241],\n",
              "       [ 0.3026,  0.5238,  0.0009,  1.3438],\n",
              "       [-0.7135, -0.8312, -2.3702, -1.8608]])"
            ]
          },
          "metadata": {
            "tags": []
          },
          "execution_count": 65
        }
      ]
    },
    {
      "cell_type": "markdown",
      "metadata": {
        "id": "KqBxtczt4bw8"
      },
      "source": [
        "각 원소가 'Bob'과 같은지 Boolean으로 뽑아줌"
      ]
    },
    {
      "cell_type": "code",
      "metadata": {
        "colab": {
          "base_uri": "https://localhost:8080/"
        },
        "id": "Ks_2Be0D4WjD",
        "outputId": "d24d6a72-d7a9-4aa6-966f-6d985a6c8c16"
      },
      "source": [
        "names == 'Bob'"
      ],
      "execution_count": 66,
      "outputs": [
        {
          "output_type": "execute_result",
          "data": {
            "text/plain": [
              "array([ True, False, False,  True, False, False, False])"
            ]
          },
          "metadata": {
            "tags": []
          },
          "execution_count": 66
        }
      ]
    },
    {
      "cell_type": "markdown",
      "metadata": {
        "id": "NDwKaitw4ojx"
      },
      "source": [
        "위의 것이 True인 것만 인식되어 data에서 첫번째, 4번째의 array만 뽑히게됨"
      ]
    },
    {
      "cell_type": "code",
      "metadata": {
        "colab": {
          "base_uri": "https://localhost:8080/"
        },
        "id": "xrWRqcW-4akt",
        "outputId": "2489a132-74c6-42e9-d561-3dc70036a477"
      },
      "source": [
        "data[names == 'Bob']"
      ],
      "execution_count": 67,
      "outputs": [
        {
          "output_type": "execute_result",
          "data": {
            "text/plain": [
              "array([[ 0.0929,  0.2817,  0.769 ,  1.2464],\n",
              "       [ 1.669 , -0.4386, -0.5397,  0.477 ]])"
            ]
          },
          "metadata": {
            "tags": []
          },
          "execution_count": 67
        }
      ]
    },
    {
      "cell_type": "code",
      "metadata": {
        "colab": {
          "base_uri": "https://localhost:8080/"
        },
        "id": "Uy1EzqMW4kbv",
        "outputId": "575230d0-d1c0-44dc-b380-9962e7ed2f43"
      },
      "source": [
        "data[names == 'Bob', 2:]"
      ],
      "execution_count": 68,
      "outputs": [
        {
          "output_type": "execute_result",
          "data": {
            "text/plain": [
              "array([[ 0.769 ,  1.2464],\n",
              "       [-0.5397,  0.477 ]])"
            ]
          },
          "metadata": {
            "tags": []
          },
          "execution_count": 68
        }
      ]
    },
    {
      "cell_type": "code",
      "metadata": {
        "colab": {
          "base_uri": "https://localhost:8080/"
        },
        "id": "tjFpOdn842qV",
        "outputId": "afb303bc-361d-4cfc-cf1a-077cd31cd52c"
      },
      "source": [
        "data[names == 'Bob', 3]"
      ],
      "execution_count": 69,
      "outputs": [
        {
          "output_type": "execute_result",
          "data": {
            "text/plain": [
              "array([1.2464, 0.477 ])"
            ]
          },
          "metadata": {
            "tags": []
          },
          "execution_count": 69
        }
      ]
    },
    {
      "cell_type": "markdown",
      "metadata": {
        "id": "-synWZX95Fzt"
      },
      "source": [
        "!나 ~를 활용해서 부정표현을 사용"
      ]
    },
    {
      "cell_type": "code",
      "metadata": {
        "colab": {
          "base_uri": "https://localhost:8080/"
        },
        "id": "0yx9jh5U44Av",
        "outputId": "18956f03-6557-437c-ccbc-e10fc973a1ac"
      },
      "source": [
        "names != 'Bob'"
      ],
      "execution_count": 70,
      "outputs": [
        {
          "output_type": "execute_result",
          "data": {
            "text/plain": [
              "array([False,  True,  True, False,  True,  True,  True])"
            ]
          },
          "metadata": {
            "tags": []
          },
          "execution_count": 70
        }
      ]
    },
    {
      "cell_type": "code",
      "metadata": {
        "colab": {
          "base_uri": "https://localhost:8080/"
        },
        "id": "FgR_rS9y5ABc",
        "outputId": "06e31de6-3b5f-410c-b316-516fbdb6e5bf"
      },
      "source": [
        "data[~(names == 'Bob')]"
      ],
      "execution_count": 71,
      "outputs": [
        {
          "output_type": "execute_result",
          "data": {
            "text/plain": [
              "array([[ 1.0072, -1.2962,  0.275 ,  0.2289],\n",
              "       [ 1.3529,  0.8864, -2.0016, -0.3718],\n",
              "       [ 3.2489, -1.0212, -0.5771,  0.1241],\n",
              "       [ 0.3026,  0.5238,  0.0009,  1.3438],\n",
              "       [-0.7135, -0.8312, -2.3702, -1.8608]])"
            ]
          },
          "metadata": {
            "tags": []
          },
          "execution_count": 71
        }
      ]
    },
    {
      "cell_type": "code",
      "metadata": {
        "colab": {
          "base_uri": "https://localhost:8080/"
        },
        "id": "HFkBozkI5CWV",
        "outputId": "a6ec84c9-f2c7-4f04-d84c-137cb4ee9cd7"
      },
      "source": [
        "cond = names == 'Bob'\r\n",
        "data[~cond]"
      ],
      "execution_count": 72,
      "outputs": [
        {
          "output_type": "execute_result",
          "data": {
            "text/plain": [
              "array([[ 1.0072, -1.2962,  0.275 ,  0.2289],\n",
              "       [ 1.3529,  0.8864, -2.0016, -0.3718],\n",
              "       [ 3.2489, -1.0212, -0.5771,  0.1241],\n",
              "       [ 0.3026,  0.5238,  0.0009,  1.3438],\n",
              "       [-0.7135, -0.8312, -2.3702, -1.8608]])"
            ]
          },
          "metadata": {
            "tags": []
          },
          "execution_count": 72
        }
      ]
    },
    {
      "cell_type": "markdown",
      "metadata": {
        "id": "Z9k7UK6y5R8n"
      },
      "source": [
        "| (or)를 사용한다"
      ]
    },
    {
      "cell_type": "code",
      "metadata": {
        "colab": {
          "base_uri": "https://localhost:8080/"
        },
        "id": "e1vk53IX5Mnd",
        "outputId": "48e4bfa4-7d3a-4982-e6ad-88759d9f1f0c"
      },
      "source": [
        "mask = (names == 'Bob') | (names == 'Will')\r\n",
        "mask"
      ],
      "execution_count": 73,
      "outputs": [
        {
          "output_type": "execute_result",
          "data": {
            "text/plain": [
              "array([ True, False,  True,  True,  True, False, False])"
            ]
          },
          "metadata": {
            "tags": []
          },
          "execution_count": 73
        }
      ]
    },
    {
      "cell_type": "code",
      "metadata": {
        "colab": {
          "base_uri": "https://localhost:8080/"
        },
        "id": "QV8dAjPU5PdW",
        "outputId": "7c9691cb-de7c-43a4-80e6-85d604cc1feb"
      },
      "source": [
        "data[mask]"
      ],
      "execution_count": 74,
      "outputs": [
        {
          "output_type": "execute_result",
          "data": {
            "text/plain": [
              "array([[ 0.0929,  0.2817,  0.769 ,  1.2464],\n",
              "       [ 1.3529,  0.8864, -2.0016, -0.3718],\n",
              "       [ 1.669 , -0.4386, -0.5397,  0.477 ],\n",
              "       [ 3.2489, -1.0212, -0.5771,  0.1241]])"
            ]
          },
          "metadata": {
            "tags": []
          },
          "execution_count": 74
        }
      ]
    },
    {
      "cell_type": "code",
      "metadata": {
        "colab": {
          "base_uri": "https://localhost:8080/"
        },
        "id": "WP1QUGzS5Vp2",
        "outputId": "c5a6b375-2ccc-44b4-9f87-a1c7b6c542fa"
      },
      "source": [
        "data[data<0] = 0\r\n",
        "data"
      ],
      "execution_count": 75,
      "outputs": [
        {
          "output_type": "execute_result",
          "data": {
            "text/plain": [
              "array([[0.0929, 0.2817, 0.769 , 1.2464],\n",
              "       [1.0072, 0.    , 0.275 , 0.2289],\n",
              "       [1.3529, 0.8864, 0.    , 0.    ],\n",
              "       [1.669 , 0.    , 0.    , 0.477 ],\n",
              "       [3.2489, 0.    , 0.    , 0.1241],\n",
              "       [0.3026, 0.5238, 0.0009, 1.3438],\n",
              "       [0.    , 0.    , 0.    , 0.    ]])"
            ]
          },
          "metadata": {
            "tags": []
          },
          "execution_count": 75
        }
      ]
    },
    {
      "cell_type": "code",
      "metadata": {
        "colab": {
          "base_uri": "https://localhost:8080/"
        },
        "id": "bZlI8_hb5f2d",
        "outputId": "b51fe3f2-2d7c-4530-a920-baa411780190"
      },
      "source": [
        "data[names != 'Joe'] = 7 \r\n",
        "data"
      ],
      "execution_count": 76,
      "outputs": [
        {
          "output_type": "execute_result",
          "data": {
            "text/plain": [
              "array([[7.    , 7.    , 7.    , 7.    ],\n",
              "       [1.0072, 0.    , 0.275 , 0.2289],\n",
              "       [7.    , 7.    , 7.    , 7.    ],\n",
              "       [7.    , 7.    , 7.    , 7.    ],\n",
              "       [7.    , 7.    , 7.    , 7.    ],\n",
              "       [0.3026, 0.5238, 0.0009, 1.3438],\n",
              "       [0.    , 0.    , 0.    , 0.    ]])"
            ]
          },
          "metadata": {
            "tags": []
          },
          "execution_count": 76
        }
      ]
    },
    {
      "cell_type": "markdown",
      "metadata": {
        "id": "XM_OFcuN5ltf"
      },
      "source": [
        "### **Fancy Indexing**"
      ]
    },
    {
      "cell_type": "code",
      "metadata": {
        "colab": {
          "base_uri": "https://localhost:8080/"
        },
        "id": "DDdeOgZa5jc6",
        "outputId": "e054e0b7-20de-4193-ff50-00d98cde26f8"
      },
      "source": [
        "arr = np.empty ((8,4))\r\n",
        "for i in range(8):\r\n",
        "  arr[i]=i\r\n",
        "arr  "
      ],
      "execution_count": 77,
      "outputs": [
        {
          "output_type": "execute_result",
          "data": {
            "text/plain": [
              "array([[0., 0., 0., 0.],\n",
              "       [1., 1., 1., 1.],\n",
              "       [2., 2., 2., 2.],\n",
              "       [3., 3., 3., 3.],\n",
              "       [4., 4., 4., 4.],\n",
              "       [5., 5., 5., 5.],\n",
              "       [6., 6., 6., 6.],\n",
              "       [7., 7., 7., 7.]])"
            ]
          },
          "metadata": {
            "tags": []
          },
          "execution_count": 77
        }
      ]
    },
    {
      "cell_type": "markdown",
      "metadata": {
        "id": "A0O3a5z66jx4"
      },
      "source": [
        "원하는 순서대로 뽑아냄"
      ]
    },
    {
      "cell_type": "code",
      "metadata": {
        "colab": {
          "base_uri": "https://localhost:8080/"
        },
        "id": "4nZBeM_b5vnK",
        "outputId": "d14971c3-b9e5-4ee2-959f-d2de693287d4"
      },
      "source": [
        "arr[[4,3,0,6]]"
      ],
      "execution_count": 78,
      "outputs": [
        {
          "output_type": "execute_result",
          "data": {
            "text/plain": [
              "array([[4., 4., 4., 4.],\n",
              "       [3., 3., 3., 3.],\n",
              "       [0., 0., 0., 0.],\n",
              "       [6., 6., 6., 6.]])"
            ]
          },
          "metadata": {
            "tags": []
          },
          "execution_count": 78
        }
      ]
    },
    {
      "cell_type": "markdown",
      "metadata": {
        "id": "Ybz_uY9x6quh"
      },
      "source": [
        "맨 끝이 -1 (앞으로 가면서 -2,-3...)"
      ]
    },
    {
      "cell_type": "code",
      "metadata": {
        "colab": {
          "base_uri": "https://localhost:8080/"
        },
        "id": "NzijXmzL6hLQ",
        "outputId": "57ebf2dd-26f0-4314-846b-27bb242cb73b"
      },
      "source": [
        "arr[[-3,-5,-7]]"
      ],
      "execution_count": 79,
      "outputs": [
        {
          "output_type": "execute_result",
          "data": {
            "text/plain": [
              "array([[5., 5., 5., 5.],\n",
              "       [3., 3., 3., 3.],\n",
              "       [1., 1., 1., 1.]])"
            ]
          },
          "metadata": {
            "tags": []
          },
          "execution_count": 79
        }
      ]
    },
    {
      "cell_type": "code",
      "metadata": {
        "colab": {
          "base_uri": "https://localhost:8080/"
        },
        "id": "cxH7r6Ut6on6",
        "outputId": "3cce75aa-934b-4e3f-dcbc-4c89b38d1a8d"
      },
      "source": [
        "arr = np.arange(32).reshape((8,4))\r\n",
        "arr"
      ],
      "execution_count": 80,
      "outputs": [
        {
          "output_type": "execute_result",
          "data": {
            "text/plain": [
              "array([[ 0,  1,  2,  3],\n",
              "       [ 4,  5,  6,  7],\n",
              "       [ 8,  9, 10, 11],\n",
              "       [12, 13, 14, 15],\n",
              "       [16, 17, 18, 19],\n",
              "       [20, 21, 22, 23],\n",
              "       [24, 25, 26, 27],\n",
              "       [28, 29, 30, 31]])"
            ]
          },
          "metadata": {
            "tags": []
          },
          "execution_count": 80
        }
      ]
    },
    {
      "cell_type": "markdown",
      "metadata": {
        "id": "AOseusk87GKI"
      },
      "source": [
        "(1,3) , (5,3), (7,1) , (2,2) 의 값들을 indexing"
      ]
    },
    {
      "cell_type": "code",
      "metadata": {
        "colab": {
          "base_uri": "https://localhost:8080/"
        },
        "id": "w3r13KWv67s_",
        "outputId": "eecfe6fa-8184-4ae8-bb4a-595999c065ad"
      },
      "source": [
        "arr[[1,5,7,2],[0,3,1,2]]"
      ],
      "execution_count": 81,
      "outputs": [
        {
          "output_type": "execute_result",
          "data": {
            "text/plain": [
              "array([ 4, 23, 29, 10])"
            ]
          },
          "metadata": {
            "tags": []
          },
          "execution_count": 81
        }
      ]
    },
    {
      "cell_type": "markdown",
      "metadata": {
        "id": "KM4Zt8Pc7Q6j"
      },
      "source": [
        "1번째 array에서 0,3,1,2번째 순서대로 뽑아냄"
      ]
    },
    {
      "cell_type": "code",
      "metadata": {
        "colab": {
          "base_uri": "https://localhost:8080/"
        },
        "id": "6Q_cA5kK7AJM",
        "outputId": "08b3709d-e5fe-4d3f-a3e6-73982a153917"
      },
      "source": [
        "arr[[1, 5, 7, 2]][:, [0, 3, 1, 2]]"
      ],
      "execution_count": 82,
      "outputs": [
        {
          "output_type": "execute_result",
          "data": {
            "text/plain": [
              "array([[ 4,  7,  5,  6],\n",
              "       [20, 23, 21, 22],\n",
              "       [28, 31, 29, 30],\n",
              "       [ 8, 11,  9, 10]])"
            ]
          },
          "metadata": {
            "tags": []
          },
          "execution_count": 82
        }
      ]
    },
    {
      "cell_type": "markdown",
      "metadata": {
        "id": "qDDtrDNI7WbP"
      },
      "source": [
        "### **Transposing Arrays and Swapping Axes**"
      ]
    },
    {
      "cell_type": "code",
      "metadata": {
        "colab": {
          "base_uri": "https://localhost:8080/"
        },
        "id": "8ZNNPvzW7Nru",
        "outputId": "507fa986-95f6-4d44-815a-0cb76867e8a5"
      },
      "source": [
        "arr = np.arange(15).reshape((3,5))\r\n",
        "arr"
      ],
      "execution_count": 83,
      "outputs": [
        {
          "output_type": "execute_result",
          "data": {
            "text/plain": [
              "array([[ 0,  1,  2,  3,  4],\n",
              "       [ 5,  6,  7,  8,  9],\n",
              "       [10, 11, 12, 13, 14]])"
            ]
          },
          "metadata": {
            "tags": []
          },
          "execution_count": 83
        }
      ]
    },
    {
      "cell_type": "code",
      "metadata": {
        "colab": {
          "base_uri": "https://localhost:8080/"
        },
        "id": "WxMCYBpB8Pbn",
        "outputId": "cb3e6de2-dcdc-4090-d0f6-e8bf0b0ae699"
      },
      "source": [
        "arr.T"
      ],
      "execution_count": 84,
      "outputs": [
        {
          "output_type": "execute_result",
          "data": {
            "text/plain": [
              "array([[ 0,  5, 10],\n",
              "       [ 1,  6, 11],\n",
              "       [ 2,  7, 12],\n",
              "       [ 3,  8, 13],\n",
              "       [ 4,  9, 14]])"
            ]
          },
          "metadata": {
            "tags": []
          },
          "execution_count": 84
        }
      ]
    },
    {
      "cell_type": "code",
      "metadata": {
        "colab": {
          "base_uri": "https://localhost:8080/"
        },
        "id": "8fxOgXI98P-K",
        "outputId": "4a22c1d7-743a-4f8b-ad48-1d6236014601"
      },
      "source": [
        "arr = np.random.randn(6,3)\r\n",
        "arr"
      ],
      "execution_count": 85,
      "outputs": [
        {
          "output_type": "execute_result",
          "data": {
            "text/plain": [
              "array([[-0.8608,  0.5601, -1.2659],\n",
              "       [ 0.1198, -1.0635,  0.3329],\n",
              "       [-2.3594, -0.1995, -1.542 ],\n",
              "       [-0.9707, -1.307 ,  0.2863],\n",
              "       [ 0.378 , -0.7539,  0.3313],\n",
              "       [ 1.3497,  0.0699,  0.2467]])"
            ]
          },
          "metadata": {
            "tags": []
          },
          "execution_count": 85
        }
      ]
    },
    {
      "cell_type": "code",
      "metadata": {
        "colab": {
          "base_uri": "https://localhost:8080/"
        },
        "id": "R1Rw9oSn8Te7",
        "outputId": "47f69b2d-12c4-481c-b4e4-c0a7fb7cef8c"
      },
      "source": [
        "np.dot(arr.T,arr)"
      ],
      "execution_count": 86,
      "outputs": [
        {
          "output_type": "execute_result",
          "data": {
            "text/plain": [
              "array([[ 9.2291,  0.9394,  4.948 ],\n",
              "       [ 0.9394,  3.7662, -1.3622],\n",
              "       [ 4.948 , -1.3622,  4.3437]])"
            ]
          },
          "metadata": {
            "tags": []
          },
          "execution_count": 86
        }
      ]
    },
    {
      "cell_type": "code",
      "metadata": {
        "colab": {
          "base_uri": "https://localhost:8080/"
        },
        "id": "L1H2a12H8X8S",
        "outputId": "778e0e9a-c57e-47d2-8582-0a504b137ffd"
      },
      "source": [
        "arr = np.arange(16).reshape((2, 2, 4))\r\n",
        "arr"
      ],
      "execution_count": 87,
      "outputs": [
        {
          "output_type": "execute_result",
          "data": {
            "text/plain": [
              "array([[[ 0,  1,  2,  3],\n",
              "        [ 4,  5,  6,  7]],\n",
              "\n",
              "       [[ 8,  9, 10, 11],\n",
              "        [12, 13, 14, 15]]])"
            ]
          },
          "metadata": {
            "tags": []
          },
          "execution_count": 87
        }
      ]
    },
    {
      "cell_type": "code",
      "metadata": {
        "colab": {
          "base_uri": "https://localhost:8080/"
        },
        "id": "vyErx77u8bwo",
        "outputId": "f770c0e4-9a7b-47bc-9524-3cb6afb6fc97"
      },
      "source": [
        "arr.transpose((1, 0, 2))"
      ],
      "execution_count": 88,
      "outputs": [
        {
          "output_type": "execute_result",
          "data": {
            "text/plain": [
              "array([[[ 0,  1,  2,  3],\n",
              "        [ 8,  9, 10, 11]],\n",
              "\n",
              "       [[ 4,  5,  6,  7],\n",
              "        [12, 13, 14, 15]]])"
            ]
          },
          "metadata": {
            "tags": []
          },
          "execution_count": 88
        }
      ]
    },
    {
      "cell_type": "code",
      "metadata": {
        "colab": {
          "base_uri": "https://localhost:8080/"
        },
        "id": "mORB8b1l8dCb",
        "outputId": "ed39e0ac-4d88-49c5-8651-94d4aa2ad072"
      },
      "source": [
        "arr"
      ],
      "execution_count": 89,
      "outputs": [
        {
          "output_type": "execute_result",
          "data": {
            "text/plain": [
              "array([[[ 0,  1,  2,  3],\n",
              "        [ 4,  5,  6,  7]],\n",
              "\n",
              "       [[ 8,  9, 10, 11],\n",
              "        [12, 13, 14, 15]]])"
            ]
          },
          "metadata": {
            "tags": []
          },
          "execution_count": 89
        }
      ]
    },
    {
      "cell_type": "code",
      "metadata": {
        "colab": {
          "base_uri": "https://localhost:8080/"
        },
        "id": "_lyIZ5YV8qqG",
        "outputId": "8d013f0c-a621-4fcb-fa4b-307ebab5b219"
      },
      "source": [
        "arr.swapaxes(1,2)"
      ],
      "execution_count": 90,
      "outputs": [
        {
          "output_type": "execute_result",
          "data": {
            "text/plain": [
              "array([[[ 0,  4],\n",
              "        [ 1,  5],\n",
              "        [ 2,  6],\n",
              "        [ 3,  7]],\n",
              "\n",
              "       [[ 8, 12],\n",
              "        [ 9, 13],\n",
              "        [10, 14],\n",
              "        [11, 15]]])"
            ]
          },
          "metadata": {
            "tags": []
          },
          "execution_count": 90
        }
      ]
    },
    {
      "cell_type": "markdown",
      "metadata": {
        "id": "Ks0FSFHO9XO9"
      },
      "source": [
        "## **Universal Functions: Fast Element-Wise Array Functions**"
      ]
    },
    {
      "cell_type": "code",
      "metadata": {
        "colab": {
          "base_uri": "https://localhost:8080/"
        },
        "id": "udOlkNL68tN_",
        "outputId": "cf1f3522-ce55-48d2-ba46-4a2431a6e397"
      },
      "source": [
        "arr = np.arange(10)\r\n",
        "arr"
      ],
      "execution_count": 91,
      "outputs": [
        {
          "output_type": "execute_result",
          "data": {
            "text/plain": [
              "array([0, 1, 2, 3, 4, 5, 6, 7, 8, 9])"
            ]
          },
          "metadata": {
            "tags": []
          },
          "execution_count": 91
        }
      ]
    },
    {
      "cell_type": "code",
      "metadata": {
        "colab": {
          "base_uri": "https://localhost:8080/"
        },
        "id": "2JLcAi6n9e2f",
        "outputId": "80d377a7-ddc4-4457-f173-18509a70425f"
      },
      "source": [
        "np.sqrt(arr)"
      ],
      "execution_count": 92,
      "outputs": [
        {
          "output_type": "execute_result",
          "data": {
            "text/plain": [
              "array([0.    , 1.    , 1.4142, 1.7321, 2.    , 2.2361, 2.4495, 2.6458,\n",
              "       2.8284, 3.    ])"
            ]
          },
          "metadata": {
            "tags": []
          },
          "execution_count": 92
        }
      ]
    },
    {
      "cell_type": "code",
      "metadata": {
        "colab": {
          "base_uri": "https://localhost:8080/"
        },
        "id": "cfGwRflk9f81",
        "outputId": "a83b8c0d-946f-442c-b30d-70c3fa571780"
      },
      "source": [
        "np.exp(arr)"
      ],
      "execution_count": 93,
      "outputs": [
        {
          "output_type": "execute_result",
          "data": {
            "text/plain": [
              "array([   1.    ,    2.7183,    7.3891,   20.0855,   54.5982,  148.4132,\n",
              "        403.4288, 1096.6332, 2980.958 , 8103.0839])"
            ]
          },
          "metadata": {
            "tags": []
          },
          "execution_count": 93
        }
      ]
    },
    {
      "cell_type": "code",
      "metadata": {
        "id": "EzsnL1XB9g0z"
      },
      "source": [
        "x = np.random.randn(8)\r\n",
        "y = np.random.randn(8)\r\n"
      ],
      "execution_count": 94,
      "outputs": []
    },
    {
      "cell_type": "code",
      "metadata": {
        "colab": {
          "base_uri": "https://localhost:8080/"
        },
        "id": "_CdmnImd9njW",
        "outputId": "4fe7f6ae-5d40-4fb8-adbb-057b6b6cd5b2"
      },
      "source": [
        "x"
      ],
      "execution_count": 95,
      "outputs": [
        {
          "output_type": "execute_result",
          "data": {
            "text/plain": [
              "array([-0.0119,  1.0048,  1.3272, -0.9193, -1.5491,  0.0222,  0.7584,\n",
              "       -0.6605])"
            ]
          },
          "metadata": {
            "tags": []
          },
          "execution_count": 95
        }
      ]
    },
    {
      "cell_type": "code",
      "metadata": {
        "colab": {
          "base_uri": "https://localhost:8080/"
        },
        "id": "A0D3gMV39oO9",
        "outputId": "81ffdcf3-ef2b-46e2-9e78-792683aad785"
      },
      "source": [
        "y"
      ],
      "execution_count": 96,
      "outputs": [
        {
          "output_type": "execute_result",
          "data": {
            "text/plain": [
              "array([ 0.8626, -0.01  ,  0.05  ,  0.6702,  0.853 , -0.9559, -0.0235,\n",
              "       -2.3042])"
            ]
          },
          "metadata": {
            "tags": []
          },
          "execution_count": 96
        }
      ]
    },
    {
      "cell_type": "markdown",
      "metadata": {
        "id": "UuDGFHLm9sud"
      },
      "source": [
        "x,y 중에 더 큰 값을 가지는 원소를 뽑아냄"
      ]
    },
    {
      "cell_type": "code",
      "metadata": {
        "colab": {
          "base_uri": "https://localhost:8080/"
        },
        "id": "XkWOkYAc9okN",
        "outputId": "e359c1b1-3794-44db-e0d2-2985743904e7"
      },
      "source": [
        "np.maximum(x,y)"
      ],
      "execution_count": 97,
      "outputs": [
        {
          "output_type": "execute_result",
          "data": {
            "text/plain": [
              "array([ 0.8626,  1.0048,  1.3272,  0.6702,  0.853 ,  0.0222,  0.7584,\n",
              "       -0.6605])"
            ]
          },
          "metadata": {
            "tags": []
          },
          "execution_count": 97
        }
      ]
    },
    {
      "cell_type": "code",
      "metadata": {
        "colab": {
          "base_uri": "https://localhost:8080/"
        },
        "id": "VDE_4nJ_9sIj",
        "outputId": "ba9352e3-e5af-4e39-f1c3-c7d7e17df926"
      },
      "source": [
        "arr = np.random.randn(7)*5\r\n",
        "arr"
      ],
      "execution_count": 98,
      "outputs": [
        {
          "output_type": "execute_result",
          "data": {
            "text/plain": [
              "array([-3.2623, -6.0915, -6.663 ,  5.3731,  3.6182,  3.45  ,  5.0077])"
            ]
          },
          "metadata": {
            "tags": []
          },
          "execution_count": 98
        }
      ]
    },
    {
      "cell_type": "code",
      "metadata": {
        "id": "5mpCkKWJ94wO"
      },
      "source": [
        "remainder, whole_part = np.modf(arr)"
      ],
      "execution_count": 99,
      "outputs": []
    },
    {
      "cell_type": "code",
      "metadata": {
        "colab": {
          "base_uri": "https://localhost:8080/"
        },
        "id": "U3BvXz2l98VH",
        "outputId": "086fda95-c69a-4e2d-9726-be07716c568e"
      },
      "source": [
        "remainder"
      ],
      "execution_count": 100,
      "outputs": [
        {
          "output_type": "execute_result",
          "data": {
            "text/plain": [
              "array([-0.2623, -0.0915, -0.663 ,  0.3731,  0.6182,  0.45  ,  0.0077])"
            ]
          },
          "metadata": {
            "tags": []
          },
          "execution_count": 100
        }
      ]
    },
    {
      "cell_type": "code",
      "metadata": {
        "colab": {
          "base_uri": "https://localhost:8080/"
        },
        "id": "VgAPnAov99QS",
        "outputId": "efb82134-2dc5-4b87-a724-44aca20d2b39"
      },
      "source": [
        "whole_part"
      ],
      "execution_count": 101,
      "outputs": [
        {
          "output_type": "execute_result",
          "data": {
            "text/plain": [
              "array([-3., -6., -6.,  5.,  3.,  3.,  5.])"
            ]
          },
          "metadata": {
            "tags": []
          },
          "execution_count": 101
        }
      ]
    },
    {
      "cell_type": "code",
      "metadata": {
        "colab": {
          "base_uri": "https://localhost:8080/"
        },
        "id": "rwArO2g29-QG",
        "outputId": "41fc5735-0c84-40a2-b9c0-eb4ef6d02e85"
      },
      "source": [
        "arr"
      ],
      "execution_count": 102,
      "outputs": [
        {
          "output_type": "execute_result",
          "data": {
            "text/plain": [
              "array([-3.2623, -6.0915, -6.663 ,  5.3731,  3.6182,  3.45  ,  5.0077])"
            ]
          },
          "metadata": {
            "tags": []
          },
          "execution_count": 102
        }
      ]
    },
    {
      "cell_type": "code",
      "metadata": {
        "colab": {
          "base_uri": "https://localhost:8080/"
        },
        "id": "DqbBUcvt-BM8",
        "outputId": "49efee2a-cd9c-45b7-864f-b2c176a098b7"
      },
      "source": [
        "np.sqrt(arr)"
      ],
      "execution_count": 103,
      "outputs": [
        {
          "output_type": "stream",
          "text": [
            "/usr/local/lib/python3.6/dist-packages/ipykernel_launcher.py:1: RuntimeWarning: invalid value encountered in sqrt\n",
            "  \"\"\"Entry point for launching an IPython kernel.\n"
          ],
          "name": "stderr"
        },
        {
          "output_type": "execute_result",
          "data": {
            "text/plain": [
              "array([   nan,    nan,    nan, 2.318 , 1.9022, 1.8574, 2.2378])"
            ]
          },
          "metadata": {
            "tags": []
          },
          "execution_count": 103
        }
      ]
    },
    {
      "cell_type": "code",
      "metadata": {
        "colab": {
          "base_uri": "https://localhost:8080/"
        },
        "id": "AVNKr3wk-Dcw",
        "outputId": "924f37af-8c91-4606-858d-0460477c846c"
      },
      "source": [
        "np.sqrt(arr,arr)"
      ],
      "execution_count": 104,
      "outputs": [
        {
          "output_type": "stream",
          "text": [
            "/usr/local/lib/python3.6/dist-packages/ipykernel_launcher.py:1: RuntimeWarning: invalid value encountered in sqrt\n",
            "  \"\"\"Entry point for launching an IPython kernel.\n"
          ],
          "name": "stderr"
        },
        {
          "output_type": "execute_result",
          "data": {
            "text/plain": [
              "array([   nan,    nan,    nan, 2.318 , 1.9022, 1.8574, 2.2378])"
            ]
          },
          "metadata": {
            "tags": []
          },
          "execution_count": 104
        }
      ]
    },
    {
      "cell_type": "code",
      "metadata": {
        "colab": {
          "base_uri": "https://localhost:8080/"
        },
        "id": "Pky559Yy-GNB",
        "outputId": "2490ec95-4bc1-481c-9d46-d16d720744ae"
      },
      "source": [
        "arr"
      ],
      "execution_count": 105,
      "outputs": [
        {
          "output_type": "execute_result",
          "data": {
            "text/plain": [
              "array([   nan,    nan,    nan, 2.318 , 1.9022, 1.8574, 2.2378])"
            ]
          },
          "metadata": {
            "tags": []
          },
          "execution_count": 105
        }
      ]
    },
    {
      "cell_type": "markdown",
      "metadata": {
        "id": "3sxNrBde-LYQ"
      },
      "source": [
        "## **Array-Oriented Programming with Arrays**"
      ]
    },
    {
      "cell_type": "code",
      "metadata": {
        "colab": {
          "base_uri": "https://localhost:8080/"
        },
        "id": "7-vlcF8N-Jfm",
        "outputId": "59b0bcb3-1a2e-4f04-d89c-fc1d1cc69b15"
      },
      "source": [
        "points = np.arange(-5,5,0.01)\r\n",
        "xs, ys = np.meshgrid(points,points)\r\n",
        "ys"
      ],
      "execution_count": 106,
      "outputs": [
        {
          "output_type": "execute_result",
          "data": {
            "text/plain": [
              "array([[-5.  , -5.  , -5.  , ..., -5.  , -5.  , -5.  ],\n",
              "       [-4.99, -4.99, -4.99, ..., -4.99, -4.99, -4.99],\n",
              "       [-4.98, -4.98, -4.98, ..., -4.98, -4.98, -4.98],\n",
              "       ...,\n",
              "       [ 4.97,  4.97,  4.97, ...,  4.97,  4.97,  4.97],\n",
              "       [ 4.98,  4.98,  4.98, ...,  4.98,  4.98,  4.98],\n",
              "       [ 4.99,  4.99,  4.99, ...,  4.99,  4.99,  4.99]])"
            ]
          },
          "metadata": {
            "tags": []
          },
          "execution_count": 106
        }
      ]
    },
    {
      "cell_type": "code",
      "metadata": {
        "colab": {
          "base_uri": "https://localhost:8080/"
        },
        "id": "5u8AF8Fg-tOx",
        "outputId": "1fddd22e-bd0f-4f86-ac52-7ed9f383d770"
      },
      "source": [
        "z = np.sqrt(xs**2+ys**2)\r\n",
        "z"
      ],
      "execution_count": 107,
      "outputs": [
        {
          "output_type": "execute_result",
          "data": {
            "text/plain": [
              "array([[7.0711, 7.064 , 7.0569, ..., 7.0499, 7.0569, 7.064 ],\n",
              "       [7.064 , 7.0569, 7.0499, ..., 7.0428, 7.0499, 7.0569],\n",
              "       [7.0569, 7.0499, 7.0428, ..., 7.0357, 7.0428, 7.0499],\n",
              "       ...,\n",
              "       [7.0499, 7.0428, 7.0357, ..., 7.0286, 7.0357, 7.0428],\n",
              "       [7.0569, 7.0499, 7.0428, ..., 7.0357, 7.0428, 7.0499],\n",
              "       [7.064 , 7.0569, 7.0499, ..., 7.0428, 7.0499, 7.0569]])"
            ]
          },
          "metadata": {
            "tags": []
          },
          "execution_count": 107
        }
      ]
    },
    {
      "cell_type": "code",
      "metadata": {
        "colab": {
          "base_uri": "https://localhost:8080/",
          "height": 306
        },
        "id": "cgQyzw1n-28A",
        "outputId": "6b146a2d-fc6a-4d09-87d5-35adbf8913a6"
      },
      "source": [
        "import matplotlib.pyplot as plt\r\n",
        "plt.imshow(z, cmap=plt.cm.gray); plt.colorbar()\r\n",
        "plt.title(\"Image plot of $\\sqrt{x^2 + y^2}$ for a grid of values\")"
      ],
      "execution_count": 108,
      "outputs": [
        {
          "output_type": "execute_result",
          "data": {
            "text/plain": [
              "Text(0.5, 1.0, 'Image plot of $\\\\sqrt{x^2 + y^2}$ for a grid of values')"
            ]
          },
          "metadata": {
            "tags": []
          },
          "execution_count": 108
        },
        {
          "output_type": "display_data",
          "data": {
            "image/png": "[encoded data removed]",
            "text/plain": [
              "<Figure size 432x288 with 2 Axes>"
            ]
          },
          "metadata": {
            "tags": [],
            "needs_background": "light"
          }
        }
      ]
    },
    {
      "cell_type": "code",
      "metadata": {
        "colab": {
          "base_uri": "https://localhost:8080/",
          "height": 35
        },
        "id": "CBWGD2bx_CWG",
        "outputId": "b0365b0b-9a80-4c10-ad8d-346c769e460d"
      },
      "source": [
        "plt.draw()"
      ],
      "execution_count": 109,
      "outputs": [
        {
          "output_type": "display_data",
          "data": {
            "text/plain": [
              "<Figure size 432x288 with 0 Axes>"
            ]
          },
          "metadata": {
            "tags": []
          }
        }
      ]
    },
    {
      "cell_type": "code",
      "metadata": {
        "id": "Wji05ujb_F8A"
      },
      "source": [
        "plt.close('all')"
      ],
      "execution_count": 110,
      "outputs": []
    },
    {
      "cell_type": "markdown",
      "metadata": {
        "id": "lfPvu0cz_L5D"
      },
      "source": [
        "### **Expressing Conditional Logic as Array Operations**"
      ]
    },
    {
      "cell_type": "code",
      "metadata": {
        "id": "e68MyFdE_KWa"
      },
      "source": [
        "xarr = np.array([1.1, 1.2, 1.3, 1.4, 1.5])\r\n",
        "yarr = np.array([2.1, 2.2, 2.3, 2.4, 2.5])\r\n",
        "cond = np.array([True, False, True, True, False])"
      ],
      "execution_count": 111,
      "outputs": []
    },
    {
      "cell_type": "markdown",
      "metadata": {
        "id": "Jw5XHOXY_k0n"
      },
      "source": [
        "이러면 array로 안나오고 list로 나옴"
      ]
    },
    {
      "cell_type": "code",
      "metadata": {
        "colab": {
          "base_uri": "https://localhost:8080/"
        },
        "id": "lwy4CPiE_SlS",
        "outputId": "4bf4fff3-fdc0-463f-b9ef-c70147d62d6a"
      },
      "source": [
        "result = [(x if c else y)\r\n",
        "          for x, y, c in zip(xarr, yarr, cond)]\r\n",
        "result"
      ],
      "execution_count": 112,
      "outputs": [
        {
          "output_type": "execute_result",
          "data": {
            "text/plain": [
              "[1.1, 2.2, 1.3, 1.4, 2.5]"
            ]
          },
          "metadata": {
            "tags": []
          },
          "execution_count": 112
        }
      ]
    },
    {
      "cell_type": "markdown",
      "metadata": {
        "id": "SwABbNSrCSYv"
      },
      "source": [
        "np.where를 써서 numpy array로 나오게 함"
      ]
    },
    {
      "cell_type": "code",
      "metadata": {
        "colab": {
          "base_uri": "https://localhost:8080/"
        },
        "id": "ZG6HUFaO_UCe",
        "outputId": "1551fd19-2d8b-4b8a-8545-9b9c2456b2b4"
      },
      "source": [
        "result = np.where(cond, xarr, yarr)\r\n",
        "result"
      ],
      "execution_count": 113,
      "outputs": [
        {
          "output_type": "execute_result",
          "data": {
            "text/plain": [
              "array([1.1, 2.2, 1.3, 1.4, 2.5])"
            ]
          },
          "metadata": {
            "tags": []
          },
          "execution_count": 113
        }
      ]
    },
    {
      "cell_type": "code",
      "metadata": {
        "colab": {
          "base_uri": "https://localhost:8080/"
        },
        "id": "6CIosCni_Z1d",
        "outputId": "85f76f54-8fa7-4ca4-8e30-a4b5a0e5d75f"
      },
      "source": [
        "arr = np.random.randn(4, 4)\r\n",
        "arr"
      ],
      "execution_count": 114,
      "outputs": [
        {
          "output_type": "execute_result",
          "data": {
            "text/plain": [
              "array([[-0.5031, -0.6223, -0.9212, -0.7262],\n",
              "       [ 0.2229,  0.0513, -1.1577,  0.8167],\n",
              "       [ 0.4336,  1.0107,  1.8249, -0.9975],\n",
              "       [ 0.8506, -0.1316,  0.9124,  0.1882]])"
            ]
          },
          "metadata": {
            "tags": []
          },
          "execution_count": 114
        }
      ]
    },
    {
      "cell_type": "code",
      "metadata": {
        "colab": {
          "base_uri": "https://localhost:8080/"
        },
        "id": "1l8r0X9n_px3",
        "outputId": "6ca198fe-ae80-43c1-e53f-998255bfe9b8"
      },
      "source": [
        "arr > 0"
      ],
      "execution_count": 115,
      "outputs": [
        {
          "output_type": "execute_result",
          "data": {
            "text/plain": [
              "array([[False, False, False, False],\n",
              "       [ True,  True, False,  True],\n",
              "       [ True,  True,  True, False],\n",
              "       [ True, False,  True,  True]])"
            ]
          },
          "metadata": {
            "tags": []
          },
          "execution_count": 115
        }
      ]
    },
    {
      "cell_type": "code",
      "metadata": {
        "colab": {
          "base_uri": "https://localhost:8080/"
        },
        "id": "4Zg20AyN_sHn",
        "outputId": "fe134dad-761e-429a-c0dd-3c5d4b616962"
      },
      "source": [
        "np.where(arr > 0, 2, -2)"
      ],
      "execution_count": 116,
      "outputs": [
        {
          "output_type": "execute_result",
          "data": {
            "text/plain": [
              "array([[-2, -2, -2, -2],\n",
              "       [ 2,  2, -2,  2],\n",
              "       [ 2,  2,  2, -2],\n",
              "       [ 2, -2,  2,  2]])"
            ]
          },
          "metadata": {
            "tags": []
          },
          "execution_count": 116
        }
      ]
    },
    {
      "cell_type": "code",
      "metadata": {
        "colab": {
          "base_uri": "https://localhost:8080/"
        },
        "id": "-jjTLnqB_tOe",
        "outputId": "86e4ca35-6f46-467c-c28f-1c14104ab553"
      },
      "source": [
        "np.where(arr > 0, 2, arr)"
      ],
      "execution_count": 117,
      "outputs": [
        {
          "output_type": "execute_result",
          "data": {
            "text/plain": [
              "array([[-0.5031, -0.6223, -0.9212, -0.7262],\n",
              "       [ 2.    ,  2.    , -1.1577,  2.    ],\n",
              "       [ 2.    ,  2.    ,  2.    , -0.9975],\n",
              "       [ 2.    , -0.1316,  2.    ,  2.    ]])"
            ]
          },
          "metadata": {
            "tags": []
          },
          "execution_count": 117
        }
      ]
    },
    {
      "cell_type": "markdown",
      "metadata": {
        "id": "5P9kwJgE_xLP"
      },
      "source": [
        "### **Mathematical and Statistical Methods**"
      ]
    },
    {
      "cell_type": "code",
      "metadata": {
        "colab": {
          "base_uri": "https://localhost:8080/"
        },
        "id": "gWkueXOC_vyM",
        "outputId": "63d48392-5ca5-4b58-a144-ddfe11d39d6b"
      },
      "source": [
        "arr = np.random.randn(5,4)\r\n",
        "arr"
      ],
      "execution_count": 118,
      "outputs": [
        {
          "output_type": "execute_result",
          "data": {
            "text/plain": [
              "array([[ 2.1695, -0.1149,  2.0037,  0.0296],\n",
              "       [ 0.7953,  0.1181, -0.7485,  0.585 ],\n",
              "       [ 0.1527, -1.5657, -0.5625, -0.0327],\n",
              "       [-0.929 , -0.4826, -0.0363,  1.0954],\n",
              "       [ 0.9809, -0.5895,  1.5817, -0.5287]])"
            ]
          },
          "metadata": {
            "tags": []
          },
          "execution_count": 118
        }
      ]
    },
    {
      "cell_type": "markdown",
      "metadata": {
        "id": "Q1h-9R69_5J5"
      },
      "source": [
        "array.mean(), np.mean(array) 모두 같은 결과"
      ]
    },
    {
      "cell_type": "code",
      "metadata": {
        "colab": {
          "base_uri": "https://localhost:8080/"
        },
        "id": "tZwNMfSS_2hi",
        "outputId": "f6111aaa-7f03-4e34-f212-22df5a1d949c"
      },
      "source": [
        "arr.mean()"
      ],
      "execution_count": 119,
      "outputs": [
        {
          "output_type": "execute_result",
          "data": {
            "text/plain": [
              "0.19607051119998253"
            ]
          },
          "metadata": {
            "tags": []
          },
          "execution_count": 119
        }
      ]
    },
    {
      "cell_type": "code",
      "metadata": {
        "colab": {
          "base_uri": "https://localhost:8080/"
        },
        "id": "RckGw621_3eM",
        "outputId": "fa86d43e-8d37-489a-d3dd-e0849dce2a0c"
      },
      "source": [
        "np.mean(arr)"
      ],
      "execution_count": 120,
      "outputs": [
        {
          "output_type": "execute_result",
          "data": {
            "text/plain": [
              "0.19607051119998253"
            ]
          },
          "metadata": {
            "tags": []
          },
          "execution_count": 120
        }
      ]
    },
    {
      "cell_type": "code",
      "metadata": {
        "colab": {
          "base_uri": "https://localhost:8080/"
        },
        "id": "Q3Sv8Tmx_4bz",
        "outputId": "bbbf4d51-6a6a-4327-8389-f417deed594e"
      },
      "source": [
        "arr.sum()"
      ],
      "execution_count": 121,
      "outputs": [
        {
          "output_type": "execute_result",
          "data": {
            "text/plain": [
              "3.9214102239996507"
            ]
          },
          "metadata": {
            "tags": []
          },
          "execution_count": 121
        }
      ]
    },
    {
      "cell_type": "markdown",
      "metadata": {
        "id": "7YtTpyLRAIlQ"
      },
      "source": [
        "axis =1 은 같은 행끼리 더함"
      ]
    },
    {
      "cell_type": "code",
      "metadata": {
        "colab": {
          "base_uri": "https://localhost:8080/"
        },
        "id": "U7HoFe8u__to",
        "outputId": "3a2ac7c9-37e3-4fb8-ca3d-49046b4f7451"
      },
      "source": [
        "arr.mean(axis=1)"
      ],
      "execution_count": 122,
      "outputs": [
        {
          "output_type": "execute_result",
          "data": {
            "text/plain": [
              "array([ 1.022 ,  0.1875, -0.502 , -0.0881,  0.3611])"
            ]
          },
          "metadata": {
            "tags": []
          },
          "execution_count": 122
        }
      ]
    },
    {
      "cell_type": "code",
      "metadata": {
        "colab": {
          "base_uri": "https://localhost:8080/"
        },
        "id": "Kt-NMQfcACPf",
        "outputId": "92a3c6ea-c70d-438c-b4d2-d13fcb241334"
      },
      "source": [
        "arr.sum(axis=0)"
      ],
      "execution_count": 123,
      "outputs": [
        {
          "output_type": "execute_result",
          "data": {
            "text/plain": [
              "array([ 3.1693, -2.6345,  2.2381,  1.1486])"
            ]
          },
          "metadata": {
            "tags": []
          },
          "execution_count": 123
        }
      ]
    },
    {
      "cell_type": "markdown",
      "metadata": {
        "id": "VPtNy4i7AeEb"
      },
      "source": [
        "cumsum : cumulative Sum"
      ]
    },
    {
      "cell_type": "code",
      "metadata": {
        "colab": {
          "base_uri": "https://localhost:8080/"
        },
        "id": "rNeVmoJwAGLg",
        "outputId": "f1eae9fc-285a-4cff-c63c-f6f1b27501ac"
      },
      "source": [
        "arr = np.array([0, 1, 2, 3, 4, 5, 6, 7])\r\n",
        "arr.cumsum()"
      ],
      "execution_count": 124,
      "outputs": [
        {
          "output_type": "execute_result",
          "data": {
            "text/plain": [
              "array([ 0,  1,  3,  6, 10, 15, 21, 28])"
            ]
          },
          "metadata": {
            "tags": []
          },
          "execution_count": 124
        }
      ]
    },
    {
      "cell_type": "code",
      "metadata": {
        "colab": {
          "base_uri": "https://localhost:8080/"
        },
        "id": "koKVBHhJAdin",
        "outputId": "04a08020-0733-4d58-9cc0-b61a3455fae2"
      },
      "source": [
        "arr = np.array([[0, 1, 2], [3, 4, 5], [6, 7, 8]])\r\n",
        "arr"
      ],
      "execution_count": 125,
      "outputs": [
        {
          "output_type": "execute_result",
          "data": {
            "text/plain": [
              "array([[0, 1, 2],\n",
              "       [3, 4, 5],\n",
              "       [6, 7, 8]])"
            ]
          },
          "metadata": {
            "tags": []
          },
          "execution_count": 125
        }
      ]
    },
    {
      "cell_type": "markdown",
      "metadata": {
        "id": "TzZ2m9P_As2U"
      },
      "source": [
        "같은 열에 있는 것끼리 위에서 아래로 cumulative sum"
      ]
    },
    {
      "cell_type": "code",
      "metadata": {
        "colab": {
          "base_uri": "https://localhost:8080/"
        },
        "id": "EmL7JFx4AiLx",
        "outputId": "42a7236e-0904-4ff1-87bf-c45bfdc789ed"
      },
      "source": [
        "arr.cumsum(axis=0)"
      ],
      "execution_count": 126,
      "outputs": [
        {
          "output_type": "execute_result",
          "data": {
            "text/plain": [
              "array([[ 0,  1,  2],\n",
              "       [ 3,  5,  7],\n",
              "       [ 9, 12, 15]])"
            ]
          },
          "metadata": {
            "tags": []
          },
          "execution_count": 126
        }
      ]
    },
    {
      "cell_type": "markdown",
      "metadata": {
        "id": "04knFQ1EAxdI"
      },
      "source": [
        "같은 행에 있는 것끼리 왼쪽에서 오른쪽으로 cumulative product"
      ]
    },
    {
      "cell_type": "code",
      "metadata": {
        "colab": {
          "base_uri": "https://localhost:8080/"
        },
        "id": "Fc0U6lUpAjcJ",
        "outputId": "5377dd6d-026b-4b09-fb20-32d0c57be64b"
      },
      "source": [
        "arr.cumprod(axis=1)"
      ],
      "execution_count": 127,
      "outputs": [
        {
          "output_type": "execute_result",
          "data": {
            "text/plain": [
              "array([[  0,   0,   0],\n",
              "       [  3,  12,  60],\n",
              "       [  6,  42, 336]])"
            ]
          },
          "metadata": {
            "tags": []
          },
          "execution_count": 127
        }
      ]
    },
    {
      "cell_type": "markdown",
      "metadata": {
        "id": "IVxtP1ddA1vD"
      },
      "source": [
        "### **Methods for Boolean Arrays**"
      ]
    },
    {
      "cell_type": "code",
      "metadata": {
        "colab": {
          "base_uri": "https://localhost:8080/"
        },
        "id": "LYb3OOrsA_8f",
        "outputId": "27256849-7435-4723-f748-ba3ba334675e"
      },
      "source": [
        "arr = np.random.randn(100)\r\n",
        "(arr>0).sum() ##양수인 값의 갯수"
      ],
      "execution_count": 128,
      "outputs": [
        {
          "output_type": "execute_result",
          "data": {
            "text/plain": [
              "42"
            ]
          },
          "metadata": {
            "tags": []
          },
          "execution_count": 128
        }
      ]
    },
    {
      "cell_type": "code",
      "metadata": {
        "id": "ZgSK4VpjBVfl"
      },
      "source": [
        "bools = np.array([False, False, True, False])"
      ],
      "execution_count": 129,
      "outputs": []
    },
    {
      "cell_type": "markdown",
      "metadata": {
        "id": "XV-EbdP_Ba8g"
      },
      "source": [
        "하나라도 True가 있으면 True"
      ]
    },
    {
      "cell_type": "code",
      "metadata": {
        "colab": {
          "base_uri": "https://localhost:8080/"
        },
        "id": "Oqm0NJUqBYLA",
        "outputId": "f4d5baf8-1daa-4892-fea8-d308ca13b4aa"
      },
      "source": [
        "bools.any()"
      ],
      "execution_count": 130,
      "outputs": [
        {
          "output_type": "execute_result",
          "data": {
            "text/plain": [
              "True"
            ]
          },
          "metadata": {
            "tags": []
          },
          "execution_count": 130
        }
      ]
    },
    {
      "cell_type": "markdown",
      "metadata": {
        "id": "yeEaXecyBdLs"
      },
      "source": [
        "모든 원소가 True면 True"
      ]
    },
    {
      "cell_type": "code",
      "metadata": {
        "colab": {
          "base_uri": "https://localhost:8080/"
        },
        "id": "vlt56C_9BZNs",
        "outputId": "bcfb4c35-748f-4ed7-f49d-ad0f179224cf"
      },
      "source": [
        "bools.all()"
      ],
      "execution_count": 131,
      "outputs": [
        {
          "output_type": "execute_result",
          "data": {
            "text/plain": [
              "False"
            ]
          },
          "metadata": {
            "tags": []
          },
          "execution_count": 131
        }
      ]
    },
    {
      "cell_type": "markdown",
      "metadata": {
        "id": "4Hm26gtWBgbR"
      },
      "source": [
        "### **Sorting**"
      ]
    },
    {
      "cell_type": "code",
      "metadata": {
        "colab": {
          "base_uri": "https://localhost:8080/"
        },
        "id": "iZYkHIqRBaPN",
        "outputId": "d2375d3a-f547-4a71-e785-43175dd87e9e"
      },
      "source": [
        "arr = np.random.randn(6)\r\n",
        "arr"
      ],
      "execution_count": 132,
      "outputs": [
        {
          "output_type": "execute_result",
          "data": {
            "text/plain": [
              "array([ 0.6095, -0.4938,  1.24  , -0.1357,  1.43  , -0.8469])"
            ]
          },
          "metadata": {
            "tags": []
          },
          "execution_count": 132
        }
      ]
    },
    {
      "cell_type": "markdown",
      "metadata": {
        "id": "8SNGCniLCkI4"
      },
      "source": [
        "오름차순으로 정렬"
      ]
    },
    {
      "cell_type": "code",
      "metadata": {
        "colab": {
          "base_uri": "https://localhost:8080/"
        },
        "id": "BFRTffUEBqWU",
        "outputId": "64acd4f9-3fca-41be-bfd9-78e69270472f"
      },
      "source": [
        "arr.sort()\r\n",
        "arr"
      ],
      "execution_count": 133,
      "outputs": [
        {
          "output_type": "execute_result",
          "data": {
            "text/plain": [
              "array([-0.8469, -0.4938, -0.1357,  0.6095,  1.24  ,  1.43  ])"
            ]
          },
          "metadata": {
            "tags": []
          },
          "execution_count": 133
        }
      ]
    },
    {
      "cell_type": "code",
      "metadata": {
        "colab": {
          "base_uri": "https://localhost:8080/"
        },
        "id": "zUP-XoUCCjca",
        "outputId": "820d3fac-0e18-43a2-f1f2-68421ea81b5a"
      },
      "source": [
        "arr = np.random.randn(5, 3)\r\n",
        "arr"
      ],
      "execution_count": 134,
      "outputs": [
        {
          "output_type": "execute_result",
          "data": {
            "text/plain": [
              "array([[ 0.6033,  1.2636, -0.2555],\n",
              "       [-0.4457,  0.4684, -0.9616],\n",
              "       [-1.8245,  0.6254,  1.0229],\n",
              "       [ 1.1074,  0.0909, -0.3501],\n",
              "       [ 0.218 , -0.8948, -1.7415]])"
            ]
          },
          "metadata": {
            "tags": []
          },
          "execution_count": 134
        }
      ]
    },
    {
      "cell_type": "markdown",
      "metadata": {
        "id": "kGxvA1-5Cpv5"
      },
      "source": [
        "각 array 안에서 오름차순으로 정렬됨"
      ]
    },
    {
      "cell_type": "code",
      "metadata": {
        "colab": {
          "base_uri": "https://localhost:8080/"
        },
        "id": "sDT3fjODCnWI",
        "outputId": "afbad5d6-0eb2-41ad-a622-7195b1c655b8"
      },
      "source": [
        "arr.sort(1)\r\n",
        "arr"
      ],
      "execution_count": 135,
      "outputs": [
        {
          "output_type": "execute_result",
          "data": {
            "text/plain": [
              "array([[-0.2555,  0.6033,  1.2636],\n",
              "       [-0.9616, -0.4457,  0.4684],\n",
              "       [-1.8245,  0.6254,  1.0229],\n",
              "       [-0.3501,  0.0909,  1.1074],\n",
              "       [-1.7415, -0.8948,  0.218 ]])"
            ]
          },
          "metadata": {
            "tags": []
          },
          "execution_count": 135
        }
      ]
    },
    {
      "cell_type": "code",
      "metadata": {
        "colab": {
          "base_uri": "https://localhost:8080/"
        },
        "id": "or-lFDROCpFO",
        "outputId": "af23045f-e114-46ef-836a-6f1ddfff58ea"
      },
      "source": [
        "large_arr = np.random.randn(1000)\r\n",
        "large_arr.sort()\r\n",
        "large_arr[int(0.05*len(large_arr))] #5% quantile 값을 출력"
      ],
      "execution_count": 136,
      "outputs": [
        {
          "output_type": "execute_result",
          "data": {
            "text/plain": [
              "-1.5311513550102103"
            ]
          },
          "metadata": {
            "tags": []
          },
          "execution_count": 136
        }
      ]
    },
    {
      "cell_type": "markdown",
      "metadata": {
        "id": "LFx2JOVKDBtG"
      },
      "source": [
        "### **Unique and Other Set Logic**"
      ]
    },
    {
      "cell_type": "markdown",
      "metadata": {
        "id": "A7XAYL27DKCF"
      },
      "source": [
        "unique를 쓰면 중복없이 오름차순으로 값을 정렬해서 뽑아줌"
      ]
    },
    {
      "cell_type": "code",
      "metadata": {
        "colab": {
          "base_uri": "https://localhost:8080/"
        },
        "id": "tT5aTacDC46J",
        "outputId": "ef0e742b-9900-462f-e721-b0232e5e97b2"
      },
      "source": [
        "names = np.array(['Bob', 'Joe', 'Will', 'Bob', 'Will', 'Joe', 'Joe'])\r\n",
        "np.unique(names)"
      ],
      "execution_count": 137,
      "outputs": [
        {
          "output_type": "execute_result",
          "data": {
            "text/plain": [
              "array(['Bob', 'Joe', 'Will'], dtype='<U4')"
            ]
          },
          "metadata": {
            "tags": []
          },
          "execution_count": 137
        }
      ]
    },
    {
      "cell_type": "code",
      "metadata": {
        "colab": {
          "base_uri": "https://localhost:8080/"
        },
        "id": "5WFk6h0SDGSO",
        "outputId": "990eb22d-d3d8-4b01-cbc4-44366d3f969c"
      },
      "source": [
        "ints = np.array([3, 3, 3, 2, 2, 1, 1, 4, 4])\r\n",
        "np.unique(ints)"
      ],
      "execution_count": 138,
      "outputs": [
        {
          "output_type": "execute_result",
          "data": {
            "text/plain": [
              "array([1, 2, 3, 4])"
            ]
          },
          "metadata": {
            "tags": []
          },
          "execution_count": 138
        }
      ]
    },
    {
      "cell_type": "markdown",
      "metadata": {
        "id": "TSfdXwRlDTJI"
      },
      "source": [
        "numpy array가 아닌 list로 뽑아주는 python 내장 함수도 존재함"
      ]
    },
    {
      "cell_type": "code",
      "metadata": {
        "colab": {
          "base_uri": "https://localhost:8080/"
        },
        "id": "WNPg3AMDDHwj",
        "outputId": "6012ef75-184e-464b-fb27-dcc3f71d3ae1"
      },
      "source": [
        "sorted(set(names))"
      ],
      "execution_count": 139,
      "outputs": [
        {
          "output_type": "execute_result",
          "data": {
            "text/plain": [
              "['Bob', 'Joe', 'Will']"
            ]
          },
          "metadata": {
            "tags": []
          },
          "execution_count": 139
        }
      ]
    },
    {
      "cell_type": "markdown",
      "metadata": {
        "id": "_U5RV1z7DcDs"
      },
      "source": [
        "2,3,6 중 하나의 값이라도 해당되면 True..."
      ]
    },
    {
      "cell_type": "code",
      "metadata": {
        "colab": {
          "base_uri": "https://localhost:8080/"
        },
        "id": "fvw6SNMTDQRa",
        "outputId": "a7e814f2-e38e-4524-c8ab-38681adf7883"
      },
      "source": [
        "values = np.array([6, 0, 0, 3, 2, 5, 6])\r\n",
        "np.in1d(values, [2, 3, 6])"
      ],
      "execution_count": 140,
      "outputs": [
        {
          "output_type": "execute_result",
          "data": {
            "text/plain": [
              "array([ True, False, False,  True,  True, False,  True])"
            ]
          },
          "metadata": {
            "tags": []
          },
          "execution_count": 140
        }
      ]
    },
    {
      "cell_type": "markdown",
      "metadata": {
        "id": "sitxFi-tDlmx"
      },
      "source": [
        "## **File Input and Output with Arrays**"
      ]
    },
    {
      "cell_type": "code",
      "metadata": {
        "id": "VqWknB2ZDZzC"
      },
      "source": [
        "arr = np.arange(10)\r\n",
        "np.save('some_array', arr)"
      ],
      "execution_count": 141,
      "outputs": []
    },
    {
      "cell_type": "code",
      "metadata": {
        "colab": {
          "base_uri": "https://localhost:8080/"
        },
        "id": "wTUjVDBfDsHB",
        "outputId": "0ad48cd6-7e3c-4a3b-cfff-7e04e3b0cb25"
      },
      "source": [
        "np.load('some_array.npy')"
      ],
      "execution_count": 142,
      "outputs": [
        {
          "output_type": "execute_result",
          "data": {
            "text/plain": [
              "array([0, 1, 2, 3, 4, 5, 6, 7, 8, 9])"
            ]
          },
          "metadata": {
            "tags": []
          },
          "execution_count": 142
        }
      ]
    },
    {
      "cell_type": "code",
      "metadata": {
        "id": "CYIlu16ADuqV"
      },
      "source": [
        "np.savez('array_archive.npz', a =arr, b=arr)"
      ],
      "execution_count": 143,
      "outputs": []
    },
    {
      "cell_type": "code",
      "metadata": {
        "colab": {
          "base_uri": "https://localhost:8080/"
        },
        "id": "egS0lgayDzvB",
        "outputId": "6a8b3a6e-839f-42ad-8c82-948156287ecc"
      },
      "source": [
        "arch = np.load('array_archive.npz')\r\n",
        "arch['b']"
      ],
      "execution_count": 144,
      "outputs": [
        {
          "output_type": "execute_result",
          "data": {
            "text/plain": [
              "array([0, 1, 2, 3, 4, 5, 6, 7, 8, 9])"
            ]
          },
          "metadata": {
            "tags": []
          },
          "execution_count": 144
        }
      ]
    },
    {
      "cell_type": "code",
      "metadata": {
        "id": "9fhLIcgUD3ik"
      },
      "source": [
        "np.savez_compressed('arrays_compressed.npz', a=arr, b=arr)"
      ],
      "execution_count": 145,
      "outputs": []
    },
    {
      "cell_type": "code",
      "metadata": {
        "id": "FEVwzSjZD-U2"
      },
      "source": [
        "!rm some_array.npy\r\n",
        "!rm array_archive.npz\r\n",
        "!rm arrays_compressed.npz"
      ],
      "execution_count": 146,
      "outputs": []
    },
    {
      "cell_type": "markdown",
      "metadata": {
        "id": "KnjbOm9CEE4q"
      },
      "source": [
        "## **Linear Algebra**"
      ]
    },
    {
      "cell_type": "code",
      "metadata": {
        "id": "62rupmmwEDq9"
      },
      "source": [
        "x = np.array([[1., 2., 3.], [4., 5., 6.]])\r\n",
        "y = np.array([[6., 23.], [-1, 7], [8, 9]])"
      ],
      "execution_count": 147,
      "outputs": []
    },
    {
      "cell_type": "code",
      "metadata": {
        "colab": {
          "base_uri": "https://localhost:8080/"
        },
        "id": "h320Nj1fELBp",
        "outputId": "84d192ce-dc5f-4a55-af0d-f890eb9b0dd8"
      },
      "source": [
        "x.dot(y)"
      ],
      "execution_count": 148,
      "outputs": [
        {
          "output_type": "execute_result",
          "data": {
            "text/plain": [
              "array([[ 28.,  64.],\n",
              "       [ 67., 181.]])"
            ]
          },
          "metadata": {
            "tags": []
          },
          "execution_count": 148
        }
      ]
    },
    {
      "cell_type": "code",
      "metadata": {
        "colab": {
          "base_uri": "https://localhost:8080/"
        },
        "id": "ARjDEAwHEMHo",
        "outputId": "f79f5c2d-12aa-4302-8967-9c2f53173dd2"
      },
      "source": [
        "np.dot(x, y)"
      ],
      "execution_count": 149,
      "outputs": [
        {
          "output_type": "execute_result",
          "data": {
            "text/plain": [
              "array([[ 28.,  64.],\n",
              "       [ 67., 181.]])"
            ]
          },
          "metadata": {
            "tags": []
          },
          "execution_count": 149
        }
      ]
    },
    {
      "cell_type": "code",
      "metadata": {
        "colab": {
          "base_uri": "https://localhost:8080/"
        },
        "id": "GMyx2hPvENWM",
        "outputId": "b91e8032-76d0-4577-95c0-dc6302bd7654"
      },
      "source": [
        "np.dot(x, np.ones(3))"
      ],
      "execution_count": 150,
      "outputs": [
        {
          "output_type": "execute_result",
          "data": {
            "text/plain": [
              "array([ 6., 15.])"
            ]
          },
          "metadata": {
            "tags": []
          },
          "execution_count": 150
        }
      ]
    },
    {
      "cell_type": "code",
      "metadata": {
        "colab": {
          "base_uri": "https://localhost:8080/"
        },
        "id": "rqgT5oFEEOkr",
        "outputId": "894ae3fa-c422-445f-c981-4df0e200e3aa"
      },
      "source": [
        "x @ np.ones(3)"
      ],
      "execution_count": 151,
      "outputs": [
        {
          "output_type": "execute_result",
          "data": {
            "text/plain": [
              "array([ 6., 15.])"
            ]
          },
          "metadata": {
            "tags": []
          },
          "execution_count": 151
        }
      ]
    },
    {
      "cell_type": "code",
      "metadata": {
        "id": "pFCL7a0sEPuc"
      },
      "source": [
        "from numpy.linalg import inv, qr\r\n",
        "X = np.random.randn(5, 5)\r\n",
        "mat = X.T.dot(X)\r\n"
      ],
      "execution_count": 152,
      "outputs": []
    },
    {
      "cell_type": "code",
      "metadata": {
        "colab": {
          "base_uri": "https://localhost:8080/"
        },
        "id": "IUGlzRdmEVRM",
        "outputId": "35a697c5-4046-47ce-fe8b-3ce9788f28c8"
      },
      "source": [
        "inv(mat)"
      ],
      "execution_count": 153,
      "outputs": [
        {
          "output_type": "execute_result",
          "data": {
            "text/plain": [
              "array([[  933.1189,   871.8258, -1417.6902, -1460.4005,  1782.1391],\n",
              "       [  871.8258,   815.3929, -1325.9965, -1365.9242,  1666.9347],\n",
              "       [-1417.6902, -1325.9965,  2158.4424,  2222.0191, -2711.6822],\n",
              "       [-1460.4005, -1365.9242,  2222.0191,  2289.0575, -2793.422 ],\n",
              "       [ 1782.1391,  1666.9347, -2711.6822, -2793.422 ,  3409.5128]])"
            ]
          },
          "metadata": {
            "tags": []
          },
          "execution_count": 153
        }
      ]
    },
    {
      "cell_type": "code",
      "metadata": {
        "colab": {
          "base_uri": "https://localhost:8080/"
        },
        "id": "QMokdSZKEbVJ",
        "outputId": "ef76650b-aa4e-4d6b-afaf-27bc8d869fec"
      },
      "source": [
        "mat.dot(inv(mat))"
      ],
      "execution_count": 154,
      "outputs": [
        {
          "output_type": "execute_result",
          "data": {
            "text/plain": [
              "array([[ 1.,  0.,  0., -0.,  0.],\n",
              "       [ 0.,  1., -0., -0., -0.],\n",
              "       [-0., -0.,  1.,  0., -0.],\n",
              "       [ 0.,  0.,  0.,  1.,  0.],\n",
              "       [ 0.,  0., -0., -0.,  1.]])"
            ]
          },
          "metadata": {
            "tags": []
          },
          "execution_count": 154
        }
      ]
    },
    {
      "cell_type": "code",
      "metadata": {
        "id": "_a9NQAyfEfTF"
      },
      "source": [
        "q, r =qr(mat)"
      ],
      "execution_count": 155,
      "outputs": []
    },
    {
      "cell_type": "code",
      "metadata": {
        "colab": {
          "base_uri": "https://localhost:8080/"
        },
        "id": "YDWThIBkEguD",
        "outputId": "9e87d058-f8d6-402e-d027-25753b756b7b"
      },
      "source": [
        "r"
      ],
      "execution_count": 156,
      "outputs": [
        {
          "output_type": "execute_result",
          "data": {
            "text/plain": [
              "array([[-1.6914,  4.38  ,  0.1757,  0.4075, -0.7838],\n",
              "       [ 0.    , -2.6436,  0.1939, -3.072 , -1.0702],\n",
              "       [ 0.    ,  0.    , -0.8138,  1.5414,  0.6155],\n",
              "       [ 0.    ,  0.    ,  0.    , -2.6445, -2.1669],\n",
              "       [ 0.    ,  0.    ,  0.    ,  0.    ,  0.0002]])"
            ]
          },
          "metadata": {
            "tags": []
          },
          "execution_count": 156
        }
      ]
    },
    {
      "cell_type": "markdown",
      "metadata": {
        "id": "NKQ49GRlEiE0"
      },
      "source": [
        "## **Pseudorandom Number Generation**"
      ]
    },
    {
      "cell_type": "code",
      "metadata": {
        "colab": {
          "base_uri": "https://localhost:8080/"
        },
        "id": "KQMgCPNvEhJG",
        "outputId": "9ad3879d-8f03-4658-975f-bc8235270c17"
      },
      "source": [
        "samples = np.random.normal(size=(4, 4))\r\n",
        "samples"
      ],
      "execution_count": 157,
      "outputs": [
        {
          "output_type": "execute_result",
          "data": {
            "text/plain": [
              "array([[ 0.5732,  0.1933,  0.4429,  1.2796],\n",
              "       [ 0.575 ,  0.4339, -0.7658, -1.237 ],\n",
              "       [-0.5367,  1.8545, -0.92  , -0.1082],\n",
              "       [ 0.1525,  0.9435, -1.0953, -0.144 ]])"
            ]
          },
          "metadata": {
            "tags": []
          },
          "execution_count": 157
        }
      ]
    },
    {
      "cell_type": "code",
      "metadata": {
        "colab": {
          "base_uri": "https://localhost:8080/"
        },
        "id": "TKFfbBdIEnSe",
        "outputId": "7b43360a-8f89-4d6a-8c18-32e03d233ea1"
      },
      "source": [
        "from random import normalvariate\r\n",
        "N = 1000000\r\n",
        "%timeit samples = [normalvariate(0, 1) for _ in range(N)]\r\n",
        "%timeit np.random.normal(size=N)"
      ],
      "execution_count": 158,
      "outputs": [
        {
          "output_type": "stream",
          "text": [
            "1 loop, best of 3: 801 ms per loop\n",
            "10 loops, best of 3: 51.2 ms per loop\n"
          ],
          "name": "stdout"
        }
      ]
    },
    {
      "cell_type": "code",
      "metadata": {
        "id": "15TzdYp5EpMu"
      },
      "source": [
        "np.random.seed(1234)"
      ],
      "execution_count": 159,
      "outputs": []
    },
    {
      "cell_type": "code",
      "metadata": {
        "colab": {
          "base_uri": "https://localhost:8080/"
        },
        "id": "jbg5hGmcErd6",
        "outputId": "8221c109-9075-4a32-86ee-eff180cd68bc"
      },
      "source": [
        "rng = np.random.RandomState(1234)\r\n",
        "rng.randn(10)"
      ],
      "execution_count": 160,
      "outputs": [
        {
          "output_type": "execute_result",
          "data": {
            "text/plain": [
              "array([ 0.4714, -1.191 ,  1.4327, -0.3127, -0.7206,  0.8872,  0.8596,\n",
              "       -0.6365,  0.0157, -2.2427])"
            ]
          },
          "metadata": {
            "tags": []
          },
          "execution_count": 160
        }
      ]
    },
    {
      "cell_type": "markdown",
      "metadata": {
        "id": "IAo-ynyIEtgK"
      },
      "source": [
        "## **Example: Random Walks**"
      ]
    },
    {
      "cell_type": "code",
      "metadata": {
        "id": "-2W2QuO4EsuN"
      },
      "source": [
        "import random\r\n",
        "position = 0\r\n",
        "walk = [position]\r\n",
        "steps = 1000\r\n",
        "for i in range(steps):\r\n",
        "    step = 1 if random.randint(0, 1) else -1\r\n",
        "    position += step\r\n",
        "    walk.append(position)"
      ],
      "execution_count": 161,
      "outputs": []
    },
    {
      "cell_type": "code",
      "metadata": {
        "colab": {
          "base_uri": "https://localhost:8080/",
          "height": 52
        },
        "id": "HBI0a-wjExWO",
        "outputId": "1dfbf100-2c57-4ed1-d735-340d0edc0315"
      },
      "source": [
        "plt.figure()"
      ],
      "execution_count": 162,
      "outputs": [
        {
          "output_type": "execute_result",
          "data": {
            "text/plain": [
              "<Figure size 432x288 with 0 Axes>"
            ]
          },
          "metadata": {
            "tags": []
          },
          "execution_count": 162
        },
        {
          "output_type": "display_data",
          "data": {
            "text/plain": [
              "<Figure size 432x288 with 0 Axes>"
            ]
          },
          "metadata": {
            "tags": []
          }
        }
      ]
    },
    {
      "cell_type": "code",
      "metadata": {
        "colab": {
          "base_uri": "https://localhost:8080/",
          "height": 283
        },
        "id": "kZFDOhzqEykt",
        "outputId": "0906ca9c-d8f9-4aae-aa22-d527ec3efc91"
      },
      "source": [
        "plt.plot(walk[:100])"
      ],
      "execution_count": 163,
      "outputs": [
        {
          "output_type": "execute_result",
          "data": {
            "text/plain": [
              "[<matplotlib.lines.Line2D at 0x7f654962d198>]"
            ]
          },
          "metadata": {
            "tags": []
          },
          "execution_count": 163
        },
        {
          "output_type": "display_data",
          "data": {
            "image/png": "[encoded data removed]",
            "text/plain": [
              "<Figure size 432x288 with 1 Axes>"
            ]
          },
          "metadata": {
            "tags": [],
            "needs_background": "light"
          }
        }
      ]
    },
    {
      "cell_type": "code",
      "metadata": {
        "id": "NRMwlakpE0TN"
      },
      "source": [
        "np.random.seed(12345)"
      ],
      "execution_count": 164,
      "outputs": []
    },
    {
      "cell_type": "code",
      "metadata": {
        "id": "yh-3HaOfE1jN"
      },
      "source": [
        "nsteps = 1000\r\n",
        "draws = np.random.randint(0, 2, size=nsteps)\r\n",
        "steps = np.where(draws > 0, 1, -1)\r\n",
        "walk = steps.cumsum()"
      ],
      "execution_count": 165,
      "outputs": []
    },
    {
      "cell_type": "code",
      "metadata": {
        "colab": {
          "base_uri": "https://localhost:8080/"
        },
        "id": "R1u-YvonE2cz",
        "outputId": "ae6db083-a324-478c-e48b-fb25ea14be75"
      },
      "source": [
        "walk.min()\r\n"
      ],
      "execution_count": 166,
      "outputs": [
        {
          "output_type": "execute_result",
          "data": {
            "text/plain": [
              "-3"
            ]
          },
          "metadata": {
            "tags": []
          },
          "execution_count": 166
        }
      ]
    },
    {
      "cell_type": "code",
      "metadata": {
        "colab": {
          "base_uri": "https://localhost:8080/"
        },
        "id": "bEJM6g64E4tz",
        "outputId": "aec5f721-2407-42c5-a15f-0ba7957bc4da"
      },
      "source": [
        "\r\n",
        "walk.max()"
      ],
      "execution_count": 167,
      "outputs": [
        {
          "output_type": "execute_result",
          "data": {
            "text/plain": [
              "31"
            ]
          },
          "metadata": {
            "tags": []
          },
          "execution_count": 167
        }
      ]
    },
    {
      "cell_type": "code",
      "metadata": {
        "colab": {
          "base_uri": "https://localhost:8080/"
        },
        "id": "acsPfHIOE5oK",
        "outputId": "4451a316-6923-43f3-e540-b098fa9dc92a"
      },
      "source": [
        "(np.abs(walk) >= 10).argmax()"
      ],
      "execution_count": 168,
      "outputs": [
        {
          "output_type": "execute_result",
          "data": {
            "text/plain": [
              "37"
            ]
          },
          "metadata": {
            "tags": []
          },
          "execution_count": 168
        }
      ]
    },
    {
      "cell_type": "markdown",
      "metadata": {
        "id": "t2E1lIM9E8t3"
      },
      "source": [
        "### **Simulating Many Random Walks at Once**"
      ]
    },
    {
      "cell_type": "code",
      "metadata": {
        "id": "1rOj3cziE66p"
      },
      "source": [
        "nwalks = 5000\r\n",
        "nsteps = 1000\r\n",
        "draws = np.random.randint(0, 2, size=(nwalks, nsteps)) # 0 or 1\r\n",
        "steps = np.where(draws > 0, 1, -1)"
      ],
      "execution_count": 169,
      "outputs": []
    },
    {
      "cell_type": "code",
      "metadata": {
        "colab": {
          "base_uri": "https://localhost:8080/"
        },
        "id": "2g4P2ywqFGoG",
        "outputId": "e83ed666-4782-4033-fee3-632d7116fe7a"
      },
      "source": [
        "walks = steps.cumsum(1)\r\n",
        "walks"
      ],
      "execution_count": 170,
      "outputs": [
        {
          "output_type": "execute_result",
          "data": {
            "text/plain": [
              "array([[  1,   0,   1, ...,   8,   7,   8],\n",
              "       [  1,   0,  -1, ...,  34,  33,  32],\n",
              "       [  1,   0,  -1, ...,   4,   5,   4],\n",
              "       ...,\n",
              "       [  1,   2,   1, ...,  24,  25,  26],\n",
              "       [  1,   2,   3, ...,  14,  13,  14],\n",
              "       [ -1,  -2,  -3, ..., -24, -23, -22]])"
            ]
          },
          "metadata": {
            "tags": []
          },
          "execution_count": 170
        }
      ]
    },
    {
      "cell_type": "code",
      "metadata": {
        "colab": {
          "base_uri": "https://localhost:8080/"
        },
        "id": "DUVf6Q2SFI-L",
        "outputId": "9c8e113a-d74d-4476-d780-793d4fe7f5bb"
      },
      "source": [
        "walks.max()"
      ],
      "execution_count": 171,
      "outputs": [
        {
          "output_type": "execute_result",
          "data": {
            "text/plain": [
              "138"
            ]
          },
          "metadata": {
            "tags": []
          },
          "execution_count": 171
        }
      ]
    },
    {
      "cell_type": "code",
      "metadata": {
        "colab": {
          "base_uri": "https://localhost:8080/"
        },
        "id": "GaSYXpAPFLC4",
        "outputId": "8f0dce9c-f68d-4179-a938-72e46102a5e9"
      },
      "source": [
        "walks.min()"
      ],
      "execution_count": 172,
      "outputs": [
        {
          "output_type": "execute_result",
          "data": {
            "text/plain": [
              "-133"
            ]
          },
          "metadata": {
            "tags": []
          },
          "execution_count": 172
        }
      ]
    },
    {
      "cell_type": "code",
      "metadata": {
        "colab": {
          "base_uri": "https://localhost:8080/"
        },
        "id": "_3NrQV5xFMAR",
        "outputId": "956e124f-2eaa-45a0-e157-7c802fe34f7f"
      },
      "source": [
        "hits30 = (np.abs(walks) >= 30).any(1)\r\n",
        "hits30"
      ],
      "execution_count": 173,
      "outputs": [
        {
          "output_type": "execute_result",
          "data": {
            "text/plain": [
              "array([False,  True, False, ..., False,  True, False])"
            ]
          },
          "metadata": {
            "tags": []
          },
          "execution_count": 173
        }
      ]
    },
    {
      "cell_type": "code",
      "metadata": {
        "colab": {
          "base_uri": "https://localhost:8080/"
        },
        "id": "Zmjz5trjFOY0",
        "outputId": "3fbd0039-04d5-450d-96d1-8719c6039e1a"
      },
      "source": [
        "hits30.sum() # Number that hit 30 or -30"
      ],
      "execution_count": 174,
      "outputs": [
        {
          "output_type": "execute_result",
          "data": {
            "text/plain": [
              "3410"
            ]
          },
          "metadata": {
            "tags": []
          },
          "execution_count": 174
        }
      ]
    },
    {
      "cell_type": "code",
      "metadata": {
        "colab": {
          "base_uri": "https://localhost:8080/"
        },
        "id": "t0KMFUkvFQsL",
        "outputId": "425ed18e-3b43-4710-cfa7-cdd5a8982ab0"
      },
      "source": [
        "crossing_times = (np.abs(walks[hits30]) >= 30).argmax(1)\r\n",
        "crossing_times.mean()"
      ],
      "execution_count": 175,
      "outputs": [
        {
          "output_type": "execute_result",
          "data": {
            "text/plain": [
              "498.8897360703812"
            ]
          },
          "metadata": {
            "tags": []
          },
          "execution_count": 175
        }
      ]
    },
    {
      "cell_type": "code",
      "metadata": {
        "id": "Tvq4SAvQFSYx"
      },
      "source": [
        "steps = np.random.normal(loc=0, scale=0.25,\r\n",
        "                         size=(nwalks, nsteps))"
      ],
      "execution_count": 176,
      "outputs": []
    },
    {
      "cell_type": "code",
      "metadata": {
        "id": "2fY7h7mzFT7F"
      },
      "source": [
        ""
      ],
      "execution_count": 176,
      "outputs": []
    }
  ]
}